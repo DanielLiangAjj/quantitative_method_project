{
  "cells": [
    {
      "cell_type": "markdown",
      "metadata": {
        "papermill": {
          "duration": 0.011369,
          "end_time": "2020-09-02T12:41:13.819151",
          "exception": false,
          "start_time": "2020-09-02T12:41:13.807782",
          "status": "completed"
        },
        "tags": [],
        "id": "OunkkeMKxCuc"
      },
      "source": [
        "# Foreign Exchange Rate Prediction using LSTM Recurrent Neural Network"
      ]
    },
    {
      "cell_type": "code",
      "execution_count": 1,
      "metadata": {
        "execution": {
          "iopub.execute_input": "2020-09-02T12:41:13.868270Z",
          "iopub.status.busy": "2020-09-02T12:41:13.867678Z",
          "iopub.status.idle": "2020-09-02T12:41:19.065002Z",
          "shell.execute_reply": "2020-09-02T12:41:19.063937Z"
        },
        "id": "CGpgBRToPdB0",
        "papermill": {
          "duration": 5.214644,
          "end_time": "2020-09-02T12:41:19.065121",
          "exception": false,
          "start_time": "2020-09-02T12:41:13.850477",
          "status": "completed"
        },
        "tags": []
      },
      "outputs": [],
      "source": [
        "#Importing Linraries\n",
        "import pandas as pd\n",
        "import numpy as np\n",
        "import matplotlib.pyplot as plt\n",
        "%matplotlib inline\n",
        "import tensorflow as tf\n",
        "import keras\n",
        "import math\n",
        "import yfinance as yf\n",
        "import numpy as np\n",
        "import pandas as pd\n",
        "import pywt\n",
        "from pywt import wavedec\n",
        "from pywt import waverec\n",
        "from sklearn.preprocessing import MinMaxScaler\n",
        "import matplotlib.pyplot as plt\n",
        "import tensorflow as tf\n",
        "from tensorflow import keras\n",
        "from tensorflow.keras import layers"
      ]
    },
    {
      "cell_type": "code",
      "execution_count": 2,
      "metadata": {
        "execution": {
          "iopub.execute_input": "2020-09-02T12:41:19.095112Z",
          "iopub.status.busy": "2020-09-02T12:41:19.094273Z",
          "iopub.status.idle": "2020-09-02T12:41:19.126587Z",
          "shell.execute_reply": "2020-09-02T12:41:19.126010Z"
        },
        "id": "B7raJ8yrPqBY",
        "papermill": {
          "duration": 0.050671,
          "end_time": "2020-09-02T12:41:19.126688",
          "exception": false,
          "start_time": "2020-09-02T12:41:19.076017",
          "status": "completed"
        },
        "tags": []
      },
      "outputs": [],
      "source": [
        "#Reading dataset\n",
        "data_set = pd.read_csv('sample_data/Foreign_Exchange_Rates.csv', na_values='ND')\n",
        "data_set_plot = pd.read_csv('sample_data/Foreign_Exchange_Rates.csv', na_values='ND')"
      ]
    },
    {
      "cell_type": "code",
      "execution_count": 3,
      "metadata": {
        "execution": {
          "iopub.execute_input": "2020-09-02T12:41:19.153149Z",
          "iopub.status.busy": "2020-09-02T12:41:19.152250Z",
          "iopub.status.idle": "2020-09-02T12:41:19.155972Z",
          "shell.execute_reply": "2020-09-02T12:41:19.156573Z"
        },
        "id": "CdWShU4LCWts",
        "outputId": "4e231382-7d4b-4cf7-e0ed-e995b14022b0",
        "papermill": {
          "duration": 0.019573,
          "end_time": "2020-09-02T12:41:19.156682",
          "exception": false,
          "start_time": "2020-09-02T12:41:19.137109",
          "status": "completed"
        },
        "tags": [],
        "colab": {
          "base_uri": "https://localhost:8080/"
        }
      },
      "outputs": [
        {
          "output_type": "execute_result",
          "data": {
            "text/plain": [
              "(5217, 24)"
            ]
          },
          "metadata": {},
          "execution_count": 3
        }
      ],
      "source": [
        "data_set.shape"
      ]
    },
    {
      "cell_type": "code",
      "execution_count": 4,
      "metadata": {
        "execution": {
          "iopub.execute_input": "2020-09-02T12:41:19.201184Z",
          "iopub.status.busy": "2020-09-02T12:41:19.196475Z",
          "iopub.status.idle": "2020-09-02T12:41:19.216498Z",
          "shell.execute_reply": "2020-09-02T12:41:19.216972Z"
        },
        "id": "cw-YlY_APvPT",
        "outputId": "2f6ad2f7-714a-48aa-8349-425f3c7f2a35",
        "papermill": {
          "duration": 0.049822,
          "end_time": "2020-09-02T12:41:19.217095",
          "exception": false,
          "start_time": "2020-09-02T12:41:19.167273",
          "status": "completed"
        },
        "tags": [],
        "colab": {
          "base_uri": "https://localhost:8080/",
          "height": 412
        }
      },
      "outputs": [
        {
          "output_type": "execute_result",
          "data": {
            "text/plain": [
              "   Unnamed: 0  Time Serie  AUSTRALIA - AUSTRALIAN DOLLAR/US$  \\\n",
              "0           0  2000-01-03                             1.5172   \n",
              "1           1  2000-01-04                             1.5239   \n",
              "2           2  2000-01-05                             1.5267   \n",
              "3           3  2000-01-06                             1.5291   \n",
              "4           4  2000-01-07                             1.5272   \n",
              "\n",
              "   EURO AREA - EURO/US$  NEW ZEALAND - NEW ZELAND DOLLAR/US$  \\\n",
              "0                0.9847                               1.9033   \n",
              "1                0.9700                               1.9238   \n",
              "2                0.9676                               1.9339   \n",
              "3                0.9686                               1.9436   \n",
              "4                0.9714                               1.9380   \n",
              "\n",
              "   UNITED KINGDOM - UNITED KINGDOM POUND/US$  BRAZIL - REAL/US$  \\\n",
              "0                                     0.6146             1.8050   \n",
              "1                                     0.6109             1.8405   \n",
              "2                                     0.6092             1.8560   \n",
              "3                                     0.6070             1.8400   \n",
              "4                                     0.6104             1.8310   \n",
              "\n",
              "   CANADA - CANADIAN DOLLAR/US$  CHINA - YUAN/US$  \\\n",
              "0                        1.4465            8.2798   \n",
              "1                        1.4518            8.2799   \n",
              "2                        1.4518            8.2798   \n",
              "3                        1.4571            8.2797   \n",
              "4                        1.4505            8.2794   \n",
              "\n",
              "   HONG KONG - HONG KONG DOLLAR/US$  ...  SINGAPORE - SINGAPORE DOLLAR/US$  \\\n",
              "0                            7.7765  ...                            1.6563   \n",
              "1                            7.7775  ...                            1.6535   \n",
              "2                            7.7780  ...                            1.6560   \n",
              "3                            7.7785  ...                            1.6655   \n",
              "4                            7.7783  ...                            1.6625   \n",
              "\n",
              "   DENMARK - DANISH KRONE/US$  JAPAN - YEN/US$  MALAYSIA - RINGGIT/US$  \\\n",
              "0                      7.3290           101.70                     3.8   \n",
              "1                      7.2180           103.09                     3.8   \n",
              "2                      7.2080           103.77                     3.8   \n",
              "3                      7.2125           105.19                     3.8   \n",
              "4                      7.2285           105.17                     3.8   \n",
              "\n",
              "   NORWAY - NORWEGIAN KRONE/US$  SWEDEN - KRONA/US$  \\\n",
              "0                         7.964              8.4430   \n",
              "1                         7.934              8.3600   \n",
              "2                         7.935              8.3530   \n",
              "3                         7.940              8.3675   \n",
              "4                         7.966              8.4150   \n",
              "\n",
              "   SRI LANKA - SRI LANKAN RUPEE/US$  SWITZERLAND - FRANC/US$  \\\n",
              "0                             72.30                   1.5808   \n",
              "1                             72.65                   1.5565   \n",
              "2                             72.95                   1.5526   \n",
              "3                             72.95                   1.5540   \n",
              "4                             73.15                   1.5623   \n",
              "\n",
              "   TAIWAN - NEW TAIWAN DOLLAR/US$  THAILAND - BAHT/US$  \n",
              "0                           31.38                36.97  \n",
              "1                           30.60                37.13  \n",
              "2                           30.80                37.10  \n",
              "3                           31.75                37.62  \n",
              "4                           30.85                37.30  \n",
              "\n",
              "[5 rows x 24 columns]"
            ],
            "text/html": [
              "\n",
              "  <div id=\"df-8f74684f-8ac9-4a0a-b545-c936d0cca486\" class=\"colab-df-container\">\n",
              "    <div>\n",
              "<style scoped>\n",
              "    .dataframe tbody tr th:only-of-type {\n",
              "        vertical-align: middle;\n",
              "    }\n",
              "\n",
              "    .dataframe tbody tr th {\n",
              "        vertical-align: top;\n",
              "    }\n",
              "\n",
              "    .dataframe thead th {\n",
              "        text-align: right;\n",
              "    }\n",
              "</style>\n",
              "<table border=\"1\" class=\"dataframe\">\n",
              "  <thead>\n",
              "    <tr style=\"text-align: right;\">\n",
              "      <th></th>\n",
              "      <th>Unnamed: 0</th>\n",
              "      <th>Time Serie</th>\n",
              "      <th>AUSTRALIA - AUSTRALIAN DOLLAR/US$</th>\n",
              "      <th>EURO AREA - EURO/US$</th>\n",
              "      <th>NEW ZEALAND - NEW ZELAND DOLLAR/US$</th>\n",
              "      <th>UNITED KINGDOM - UNITED KINGDOM POUND/US$</th>\n",
              "      <th>BRAZIL - REAL/US$</th>\n",
              "      <th>CANADA - CANADIAN DOLLAR/US$</th>\n",
              "      <th>CHINA - YUAN/US$</th>\n",
              "      <th>HONG KONG - HONG KONG DOLLAR/US$</th>\n",
              "      <th>...</th>\n",
              "      <th>SINGAPORE - SINGAPORE DOLLAR/US$</th>\n",
              "      <th>DENMARK - DANISH KRONE/US$</th>\n",
              "      <th>JAPAN - YEN/US$</th>\n",
              "      <th>MALAYSIA - RINGGIT/US$</th>\n",
              "      <th>NORWAY - NORWEGIAN KRONE/US$</th>\n",
              "      <th>SWEDEN - KRONA/US$</th>\n",
              "      <th>SRI LANKA - SRI LANKAN RUPEE/US$</th>\n",
              "      <th>SWITZERLAND - FRANC/US$</th>\n",
              "      <th>TAIWAN - NEW TAIWAN DOLLAR/US$</th>\n",
              "      <th>THAILAND - BAHT/US$</th>\n",
              "    </tr>\n",
              "  </thead>\n",
              "  <tbody>\n",
              "    <tr>\n",
              "      <th>0</th>\n",
              "      <td>0</td>\n",
              "      <td>2000-01-03</td>\n",
              "      <td>1.5172</td>\n",
              "      <td>0.9847</td>\n",
              "      <td>1.9033</td>\n",
              "      <td>0.6146</td>\n",
              "      <td>1.8050</td>\n",
              "      <td>1.4465</td>\n",
              "      <td>8.2798</td>\n",
              "      <td>7.7765</td>\n",
              "      <td>...</td>\n",
              "      <td>1.6563</td>\n",
              "      <td>7.3290</td>\n",
              "      <td>101.70</td>\n",
              "      <td>3.8</td>\n",
              "      <td>7.964</td>\n",
              "      <td>8.4430</td>\n",
              "      <td>72.30</td>\n",
              "      <td>1.5808</td>\n",
              "      <td>31.38</td>\n",
              "      <td>36.97</td>\n",
              "    </tr>\n",
              "    <tr>\n",
              "      <th>1</th>\n",
              "      <td>1</td>\n",
              "      <td>2000-01-04</td>\n",
              "      <td>1.5239</td>\n",
              "      <td>0.9700</td>\n",
              "      <td>1.9238</td>\n",
              "      <td>0.6109</td>\n",
              "      <td>1.8405</td>\n",
              "      <td>1.4518</td>\n",
              "      <td>8.2799</td>\n",
              "      <td>7.7775</td>\n",
              "      <td>...</td>\n",
              "      <td>1.6535</td>\n",
              "      <td>7.2180</td>\n",
              "      <td>103.09</td>\n",
              "      <td>3.8</td>\n",
              "      <td>7.934</td>\n",
              "      <td>8.3600</td>\n",
              "      <td>72.65</td>\n",
              "      <td>1.5565</td>\n",
              "      <td>30.60</td>\n",
              "      <td>37.13</td>\n",
              "    </tr>\n",
              "    <tr>\n",
              "      <th>2</th>\n",
              "      <td>2</td>\n",
              "      <td>2000-01-05</td>\n",
              "      <td>1.5267</td>\n",
              "      <td>0.9676</td>\n",
              "      <td>1.9339</td>\n",
              "      <td>0.6092</td>\n",
              "      <td>1.8560</td>\n",
              "      <td>1.4518</td>\n",
              "      <td>8.2798</td>\n",
              "      <td>7.7780</td>\n",
              "      <td>...</td>\n",
              "      <td>1.6560</td>\n",
              "      <td>7.2080</td>\n",
              "      <td>103.77</td>\n",
              "      <td>3.8</td>\n",
              "      <td>7.935</td>\n",
              "      <td>8.3530</td>\n",
              "      <td>72.95</td>\n",
              "      <td>1.5526</td>\n",
              "      <td>30.80</td>\n",
              "      <td>37.10</td>\n",
              "    </tr>\n",
              "    <tr>\n",
              "      <th>3</th>\n",
              "      <td>3</td>\n",
              "      <td>2000-01-06</td>\n",
              "      <td>1.5291</td>\n",
              "      <td>0.9686</td>\n",
              "      <td>1.9436</td>\n",
              "      <td>0.6070</td>\n",
              "      <td>1.8400</td>\n",
              "      <td>1.4571</td>\n",
              "      <td>8.2797</td>\n",
              "      <td>7.7785</td>\n",
              "      <td>...</td>\n",
              "      <td>1.6655</td>\n",
              "      <td>7.2125</td>\n",
              "      <td>105.19</td>\n",
              "      <td>3.8</td>\n",
              "      <td>7.940</td>\n",
              "      <td>8.3675</td>\n",
              "      <td>72.95</td>\n",
              "      <td>1.5540</td>\n",
              "      <td>31.75</td>\n",
              "      <td>37.62</td>\n",
              "    </tr>\n",
              "    <tr>\n",
              "      <th>4</th>\n",
              "      <td>4</td>\n",
              "      <td>2000-01-07</td>\n",
              "      <td>1.5272</td>\n",
              "      <td>0.9714</td>\n",
              "      <td>1.9380</td>\n",
              "      <td>0.6104</td>\n",
              "      <td>1.8310</td>\n",
              "      <td>1.4505</td>\n",
              "      <td>8.2794</td>\n",
              "      <td>7.7783</td>\n",
              "      <td>...</td>\n",
              "      <td>1.6625</td>\n",
              "      <td>7.2285</td>\n",
              "      <td>105.17</td>\n",
              "      <td>3.8</td>\n",
              "      <td>7.966</td>\n",
              "      <td>8.4150</td>\n",
              "      <td>73.15</td>\n",
              "      <td>1.5623</td>\n",
              "      <td>30.85</td>\n",
              "      <td>37.30</td>\n",
              "    </tr>\n",
              "  </tbody>\n",
              "</table>\n",
              "<p>5 rows × 24 columns</p>\n",
              "</div>\n",
              "    <div class=\"colab-df-buttons\">\n",
              "\n",
              "  <div class=\"colab-df-container\">\n",
              "    <button class=\"colab-df-convert\" onclick=\"convertToInteractive('df-8f74684f-8ac9-4a0a-b545-c936d0cca486')\"\n",
              "            title=\"Convert this dataframe to an interactive table.\"\n",
              "            style=\"display:none;\">\n",
              "\n",
              "  <svg xmlns=\"http://www.w3.org/2000/svg\" height=\"24px\" viewBox=\"0 -960 960 960\">\n",
              "    <path d=\"M120-120v-720h720v720H120Zm60-500h600v-160H180v160Zm220 220h160v-160H400v160Zm0 220h160v-160H400v160ZM180-400h160v-160H180v160Zm440 0h160v-160H620v160ZM180-180h160v-160H180v160Zm440 0h160v-160H620v160Z\"/>\n",
              "  </svg>\n",
              "    </button>\n",
              "\n",
              "  <style>\n",
              "    .colab-df-container {\n",
              "      display:flex;\n",
              "      gap: 12px;\n",
              "    }\n",
              "\n",
              "    .colab-df-convert {\n",
              "      background-color: #E8F0FE;\n",
              "      border: none;\n",
              "      border-radius: 50%;\n",
              "      cursor: pointer;\n",
              "      display: none;\n",
              "      fill: #1967D2;\n",
              "      height: 32px;\n",
              "      padding: 0 0 0 0;\n",
              "      width: 32px;\n",
              "    }\n",
              "\n",
              "    .colab-df-convert:hover {\n",
              "      background-color: #E2EBFA;\n",
              "      box-shadow: 0px 1px 2px rgba(60, 64, 67, 0.3), 0px 1px 3px 1px rgba(60, 64, 67, 0.15);\n",
              "      fill: #174EA6;\n",
              "    }\n",
              "\n",
              "    .colab-df-buttons div {\n",
              "      margin-bottom: 4px;\n",
              "    }\n",
              "\n",
              "    [theme=dark] .colab-df-convert {\n",
              "      background-color: #3B4455;\n",
              "      fill: #D2E3FC;\n",
              "    }\n",
              "\n",
              "    [theme=dark] .colab-df-convert:hover {\n",
              "      background-color: #434B5C;\n",
              "      box-shadow: 0px 1px 3px 1px rgba(0, 0, 0, 0.15);\n",
              "      filter: drop-shadow(0px 1px 2px rgba(0, 0, 0, 0.3));\n",
              "      fill: #FFFFFF;\n",
              "    }\n",
              "  </style>\n",
              "\n",
              "    <script>\n",
              "      const buttonEl =\n",
              "        document.querySelector('#df-8f74684f-8ac9-4a0a-b545-c936d0cca486 button.colab-df-convert');\n",
              "      buttonEl.style.display =\n",
              "        google.colab.kernel.accessAllowed ? 'block' : 'none';\n",
              "\n",
              "      async function convertToInteractive(key) {\n",
              "        const element = document.querySelector('#df-8f74684f-8ac9-4a0a-b545-c936d0cca486');\n",
              "        const dataTable =\n",
              "          await google.colab.kernel.invokeFunction('convertToInteractive',\n",
              "                                                    [key], {});\n",
              "        if (!dataTable) return;\n",
              "\n",
              "        const docLinkHtml = 'Like what you see? Visit the ' +\n",
              "          '<a target=\"_blank\" href=https://colab.research.google.com/notebooks/data_table.ipynb>data table notebook</a>'\n",
              "          + ' to learn more about interactive tables.';\n",
              "        element.innerHTML = '';\n",
              "        dataTable['output_type'] = 'display_data';\n",
              "        await google.colab.output.renderOutput(dataTable, element);\n",
              "        const docLink = document.createElement('div');\n",
              "        docLink.innerHTML = docLinkHtml;\n",
              "        element.appendChild(docLink);\n",
              "      }\n",
              "    </script>\n",
              "  </div>\n",
              "\n",
              "\n",
              "<div id=\"df-9691e4ac-8965-4788-a41e-299d99695d54\">\n",
              "  <button class=\"colab-df-quickchart\" onclick=\"quickchart('df-9691e4ac-8965-4788-a41e-299d99695d54')\"\n",
              "            title=\"Suggest charts\"\n",
              "            style=\"display:none;\">\n",
              "\n",
              "<svg xmlns=\"http://www.w3.org/2000/svg\" height=\"24px\"viewBox=\"0 0 24 24\"\n",
              "     width=\"24px\">\n",
              "    <g>\n",
              "        <path d=\"M19 3H5c-1.1 0-2 .9-2 2v14c0 1.1.9 2 2 2h14c1.1 0 2-.9 2-2V5c0-1.1-.9-2-2-2zM9 17H7v-7h2v7zm4 0h-2V7h2v10zm4 0h-2v-4h2v4z\"/>\n",
              "    </g>\n",
              "</svg>\n",
              "  </button>\n",
              "\n",
              "<style>\n",
              "  .colab-df-quickchart {\n",
              "      --bg-color: #E8F0FE;\n",
              "      --fill-color: #1967D2;\n",
              "      --hover-bg-color: #E2EBFA;\n",
              "      --hover-fill-color: #174EA6;\n",
              "      --disabled-fill-color: #AAA;\n",
              "      --disabled-bg-color: #DDD;\n",
              "  }\n",
              "\n",
              "  [theme=dark] .colab-df-quickchart {\n",
              "      --bg-color: #3B4455;\n",
              "      --fill-color: #D2E3FC;\n",
              "      --hover-bg-color: #434B5C;\n",
              "      --hover-fill-color: #FFFFFF;\n",
              "      --disabled-bg-color: #3B4455;\n",
              "      --disabled-fill-color: #666;\n",
              "  }\n",
              "\n",
              "  .colab-df-quickchart {\n",
              "    background-color: var(--bg-color);\n",
              "    border: none;\n",
              "    border-radius: 50%;\n",
              "    cursor: pointer;\n",
              "    display: none;\n",
              "    fill: var(--fill-color);\n",
              "    height: 32px;\n",
              "    padding: 0;\n",
              "    width: 32px;\n",
              "  }\n",
              "\n",
              "  .colab-df-quickchart:hover {\n",
              "    background-color: var(--hover-bg-color);\n",
              "    box-shadow: 0 1px 2px rgba(60, 64, 67, 0.3), 0 1px 3px 1px rgba(60, 64, 67, 0.15);\n",
              "    fill: var(--button-hover-fill-color);\n",
              "  }\n",
              "\n",
              "  .colab-df-quickchart-complete:disabled,\n",
              "  .colab-df-quickchart-complete:disabled:hover {\n",
              "    background-color: var(--disabled-bg-color);\n",
              "    fill: var(--disabled-fill-color);\n",
              "    box-shadow: none;\n",
              "  }\n",
              "\n",
              "  .colab-df-spinner {\n",
              "    border: 2px solid var(--fill-color);\n",
              "    border-color: transparent;\n",
              "    border-bottom-color: var(--fill-color);\n",
              "    animation:\n",
              "      spin 1s steps(1) infinite;\n",
              "  }\n",
              "\n",
              "  @keyframes spin {\n",
              "    0% {\n",
              "      border-color: transparent;\n",
              "      border-bottom-color: var(--fill-color);\n",
              "      border-left-color: var(--fill-color);\n",
              "    }\n",
              "    20% {\n",
              "      border-color: transparent;\n",
              "      border-left-color: var(--fill-color);\n",
              "      border-top-color: var(--fill-color);\n",
              "    }\n",
              "    30% {\n",
              "      border-color: transparent;\n",
              "      border-left-color: var(--fill-color);\n",
              "      border-top-color: var(--fill-color);\n",
              "      border-right-color: var(--fill-color);\n",
              "    }\n",
              "    40% {\n",
              "      border-color: transparent;\n",
              "      border-right-color: var(--fill-color);\n",
              "      border-top-color: var(--fill-color);\n",
              "    }\n",
              "    60% {\n",
              "      border-color: transparent;\n",
              "      border-right-color: var(--fill-color);\n",
              "    }\n",
              "    80% {\n",
              "      border-color: transparent;\n",
              "      border-right-color: var(--fill-color);\n",
              "      border-bottom-color: var(--fill-color);\n",
              "    }\n",
              "    90% {\n",
              "      border-color: transparent;\n",
              "      border-bottom-color: var(--fill-color);\n",
              "    }\n",
              "  }\n",
              "</style>\n",
              "\n",
              "  <script>\n",
              "    async function quickchart(key) {\n",
              "      const quickchartButtonEl =\n",
              "        document.querySelector('#' + key + ' button');\n",
              "      quickchartButtonEl.disabled = true;  // To prevent multiple clicks.\n",
              "      quickchartButtonEl.classList.add('colab-df-spinner');\n",
              "      try {\n",
              "        const charts = await google.colab.kernel.invokeFunction(\n",
              "            'suggestCharts', [key], {});\n",
              "      } catch (error) {\n",
              "        console.error('Error during call to suggestCharts:', error);\n",
              "      }\n",
              "      quickchartButtonEl.classList.remove('colab-df-spinner');\n",
              "      quickchartButtonEl.classList.add('colab-df-quickchart-complete');\n",
              "    }\n",
              "    (() => {\n",
              "      let quickchartButtonEl =\n",
              "        document.querySelector('#df-9691e4ac-8965-4788-a41e-299d99695d54 button');\n",
              "      quickchartButtonEl.style.display =\n",
              "        google.colab.kernel.accessAllowed ? 'block' : 'none';\n",
              "    })();\n",
              "  </script>\n",
              "</div>\n",
              "    </div>\n",
              "  </div>\n"
            ],
            "application/vnd.google.colaboratory.intrinsic+json": {
              "type": "dataframe",
              "variable_name": "data_set"
            }
          },
          "metadata": {},
          "execution_count": 4
        }
      ],
      "source": [
        "#Dataset head\n",
        "data_set.head()"
      ]
    },
    {
      "cell_type": "code",
      "execution_count": 5,
      "metadata": {
        "execution": {
          "iopub.execute_input": "2020-09-02T12:41:19.243051Z",
          "iopub.status.busy": "2020-09-02T12:41:19.242206Z",
          "iopub.status.idle": "2020-09-02T12:41:19.250101Z",
          "shell.execute_reply": "2020-09-02T12:41:19.249629Z"
        },
        "id": "gs9HZoftSiQi",
        "outputId": "76d8e63f-129f-4d9d-a1da-1aa064132a4e",
        "papermill": {
          "duration": 0.022128,
          "end_time": "2020-09-02T12:41:19.250195",
          "exception": false,
          "start_time": "2020-09-02T12:41:19.228067",
          "status": "completed"
        },
        "tags": [],
        "colab": {
          "base_uri": "https://localhost:8080/"
        }
      },
      "outputs": [
        {
          "output_type": "execute_result",
          "data": {
            "text/plain": [
              "Unnamed: 0                                     0\n",
              "Time Serie                                     0\n",
              "AUSTRALIA - AUSTRALIAN DOLLAR/US$            198\n",
              "EURO AREA - EURO/US$                         198\n",
              "NEW ZEALAND - NEW ZELAND DOLLAR/US$          198\n",
              "UNITED KINGDOM - UNITED KINGDOM POUND/US$    198\n",
              "BRAZIL - REAL/US$                            198\n",
              "CANADA - CANADIAN DOLLAR/US$                 198\n",
              "CHINA - YUAN/US$                             197\n",
              "HONG KONG - HONG KONG DOLLAR/US$             198\n",
              "INDIA - INDIAN RUPEE/US$                     199\n",
              "KOREA - WON/US$                              198\n",
              "MEXICO - MEXICAN PESO/US$                    198\n",
              "SOUTH AFRICA - RAND/US$                      198\n",
              "SINGAPORE - SINGAPORE DOLLAR/US$             198\n",
              "DENMARK - DANISH KRONE/US$                   198\n",
              "JAPAN - YEN/US$                              198\n",
              "MALAYSIA - RINGGIT/US$                       198\n",
              "NORWAY - NORWEGIAN KRONE/US$                 198\n",
              "SWEDEN - KRONA/US$                           198\n",
              "SRI LANKA - SRI LANKAN RUPEE/US$             198\n",
              "SWITZERLAND - FRANC/US$                      198\n",
              "TAIWAN - NEW TAIWAN DOLLAR/US$               201\n",
              "THAILAND - BAHT/US$                          198\n",
              "dtype: int64"
            ]
          },
          "metadata": {},
          "execution_count": 5
        }
      ],
      "source": [
        "#Checking null values\n",
        "data_set.isnull().sum()"
      ]
    },
    {
      "cell_type": "code",
      "execution_count": 6,
      "metadata": {
        "execution": {
          "iopub.execute_input": "2020-09-02T12:41:19.278704Z",
          "iopub.status.busy": "2020-09-02T12:41:19.277860Z",
          "iopub.status.idle": "2020-09-02T12:41:19.293014Z",
          "shell.execute_reply": "2020-09-02T12:41:19.292544Z"
        },
        "id": "38VFuMQ2Sjno",
        "outputId": "4a9fa864-7e29-40fe-d25c-1b2959e074d5",
        "papermill": {
          "duration": 0.030597,
          "end_time": "2020-09-02T12:41:19.293106",
          "exception": false,
          "start_time": "2020-09-02T12:41:19.262509",
          "status": "completed"
        },
        "tags": [],
        "colab": {
          "base_uri": "https://localhost:8080/"
        }
      },
      "outputs": [
        {
          "output_type": "execute_result",
          "data": {
            "text/plain": [
              "Unnamed: 0                                   0\n",
              "Time Serie                                   0\n",
              "AUSTRALIA - AUSTRALIAN DOLLAR/US$            0\n",
              "EURO AREA - EURO/US$                         0\n",
              "NEW ZEALAND - NEW ZELAND DOLLAR/US$          0\n",
              "UNITED KINGDOM - UNITED KINGDOM POUND/US$    0\n",
              "BRAZIL - REAL/US$                            0\n",
              "CANADA - CANADIAN DOLLAR/US$                 0\n",
              "CHINA - YUAN/US$                             0\n",
              "HONG KONG - HONG KONG DOLLAR/US$             0\n",
              "INDIA - INDIAN RUPEE/US$                     0\n",
              "KOREA - WON/US$                              0\n",
              "MEXICO - MEXICAN PESO/US$                    0\n",
              "SOUTH AFRICA - RAND/US$                      0\n",
              "SINGAPORE - SINGAPORE DOLLAR/US$             0\n",
              "DENMARK - DANISH KRONE/US$                   0\n",
              "JAPAN - YEN/US$                              0\n",
              "MALAYSIA - RINGGIT/US$                       0\n",
              "NORWAY - NORWEGIAN KRONE/US$                 0\n",
              "SWEDEN - KRONA/US$                           0\n",
              "SRI LANKA - SRI LANKAN RUPEE/US$             0\n",
              "SWITZERLAND - FRANC/US$                      0\n",
              "TAIWAN - NEW TAIWAN DOLLAR/US$               0\n",
              "THAILAND - BAHT/US$                          0\n",
              "dtype: int64"
            ]
          },
          "metadata": {},
          "execution_count": 6
        }
      ],
      "source": [
        "data_set.interpolate(inplace=True)\n",
        "data_set.isnull().sum()"
      ]
    },
    {
      "cell_type": "code",
      "execution_count": 7,
      "metadata": {
        "execution": {
          "iopub.execute_input": "2020-09-02T12:41:19.319019Z",
          "iopub.status.busy": "2020-09-02T12:41:19.318330Z",
          "iopub.status.idle": "2020-09-02T12:41:19.510694Z",
          "shell.execute_reply": "2020-09-02T12:41:19.510135Z"
        },
        "id": "zxBUWPCgPzeM",
        "outputId": "8f82a9cd-80e9-4b0b-9c54-c7d42dcd889a",
        "papermill": {
          "duration": 0.206659,
          "end_time": "2020-09-02T12:41:19.510799",
          "exception": false,
          "start_time": "2020-09-02T12:41:19.304140",
          "status": "completed"
        },
        "tags": [],
        "colab": {
          "base_uri": "https://localhost:8080/",
          "height": 448
        }
      },
      "outputs": [
        {
          "output_type": "execute_result",
          "data": {
            "text/plain": [
              "[<matplotlib.lines.Line2D at 0x7ef781fae800>]"
            ]
          },
          "metadata": {},
          "execution_count": 7
        },
        {
          "output_type": "display_data",
          "data": {
            "text/plain": [
              "<Figure size 640x480 with 1 Axes>"
            ],
            "image/png": "[encoded data removed]"
          },
          "metadata": {}
        }
      ],
      "source": [
        "#Plotting China Exchange rate\n",
        "plt.plot(data_set['CANADA - CANADIAN DOLLAR/US$'])"
      ]
    },
    {
      "cell_type": "code",
      "execution_count": 8,
      "metadata": {
        "execution": {
          "iopub.execute_input": "2020-09-02T12:41:19.541770Z",
          "iopub.status.busy": "2020-09-02T12:41:19.540304Z",
          "iopub.status.idle": "2020-09-02T12:41:19.543442Z",
          "shell.execute_reply": "2020-09-02T12:41:19.542957Z"
        },
        "id": "KchDR_yYP6EL",
        "papermill": {
          "duration": 0.019694,
          "end_time": "2020-09-02T12:41:19.543535",
          "exception": false,
          "start_time": "2020-09-02T12:41:19.523841",
          "status": "completed"
        },
        "tags": []
      },
      "outputs": [],
      "source": [
        "#Data frame\n",
        "df = data_set['CANADA - CANADIAN DOLLAR/US$']"
      ]
    },
    {
      "cell_type": "code",
      "execution_count": 9,
      "metadata": {
        "execution": {
          "iopub.execute_input": "2020-09-02T12:41:19.573784Z",
          "iopub.status.busy": "2020-09-02T12:41:19.572924Z",
          "iopub.status.idle": "2020-09-02T12:41:19.577171Z",
          "shell.execute_reply": "2020-09-02T12:41:19.577978Z"
        },
        "id": "ny8NjFITQCHz",
        "outputId": "879903e2-3562-4fa1-faa8-5b77796b7146",
        "papermill": {
          "duration": 0.022961,
          "end_time": "2020-09-02T12:41:19.578118",
          "exception": false,
          "start_time": "2020-09-02T12:41:19.555157",
          "status": "completed"
        },
        "tags": [],
        "colab": {
          "base_uri": "https://localhost:8080/"
        }
      },
      "outputs": [
        {
          "output_type": "stream",
          "name": "stdout",
          "text": [
            "0       1.4465\n",
            "1       1.4518\n",
            "2       1.4518\n",
            "3       1.4571\n",
            "4       1.4505\n",
            "         ...  \n",
            "5212    1.3142\n",
            "5213    1.3124\n",
            "5214    1.3073\n",
            "5215    1.3058\n",
            "5216    1.2962\n",
            "Name: CANADA - CANADIAN DOLLAR/US$, Length: 5217, dtype: float64\n"
          ]
        }
      ],
      "source": [
        "print(df)"
      ]
    },
    {
      "cell_type": "code",
      "source": [
        "def denoise_preprocess(fx_data):\n",
        "\n",
        "#taking closing price data\n",
        "    combined_data = fx_data['Time Serie'] + fx_data['CANADA - CANADIAN DOLLAR/US$'].astype(str)\n",
        "\n",
        "    # Create a new DataFrame from the combined_data Series\n",
        "    formatted_df = pd.DataFrame(combined_data)\n",
        "\n",
        "    # Split the combined data into two separate columns 'Date' and 'Price'\n",
        "    formatted_df[['Date', 'Price']] = formatted_df[0].str.extract(r'(\\d{4}-\\d{2}-\\d{2})(.*)')\n",
        "\n",
        "    # Convert 'Date' to datetime and 'Price' to a numeric type (float)\n",
        "    formatted_df['Date'] = pd.to_datetime(formatted_df['Date'])\n",
        "    formatted_df['Price'] = pd.to_numeric(formatted_df['Price'], errors='coerce')  # 'coerce' will set 'nan' strings to NaN\n",
        "\n",
        "    # Set 'Date' as the index of the DataFrame\n",
        "    formatted_df.set_index('Date', inplace=True)\n",
        "\n",
        "    return formatted_df['Price']\n",
        "\n",
        "def wavelet_denoise(fx_data,train):\n",
        "        #initiate wavelet type and wavelet decomposition level variables\n",
        "    level = 2 #wavelet transform decomposition level\n",
        "    wavelet = 'db2' #wavelet type. here we choose wavelet Daubechies 2 (db2)\n",
        "    #making function for calculating mean absolute deviation for thresholding\n",
        "    def mad(d, axis=None):\n",
        "        \"\"\" Mean absolute deviation of a signal \"\"\"\n",
        "        return np.mean(np.absolute(d - np.mean(d, axis)), axis)\n",
        "\n",
        "    #decompositon/Discrete Wavelet Transform\n",
        "    level = int(level)\n",
        "    wavelet = wavelet\n",
        "    coeff = wavedec(train, wavelet, level=level)\n",
        "    level, wavelet, coeff\n",
        "    #thresholding\n",
        "    sigma = mad(coeff[-level])/0.6745\n",
        "    threshold = sigma * np.sqrt(2*np.log(len(train)))\n",
        "    coeff[1:] = (pywt.threshold(i, value=threshold, mode=\"soft\") for i in coeff[1:])\n",
        "    #reconstruction/Inverse Discrete Wavelet Transform\n",
        "    denoised = waverec(coeff, wavelet)\n",
        "    train = train.reset_index()\n",
        "    if len(train)!=len(denoised):\n",
        "        denoised = denoised[:-1]\n",
        "    train ['denoised'] = denoised\n",
        "    fx_data['denoised'] = denoised\n",
        "    return train\n",
        "\n",
        "def plot_before_after_denoise(original, denoised):\n",
        "    #plotting the actual stock price data and the denoised data\n",
        "    plt.figure(figsize=(15, 8))\n",
        "    plt.title('Entire Denoised Dataset')\n",
        "    plt.plot(original['Time Serie'], original['CANADA - CANADIAN DOLLAR/US$'])\n",
        "    plt.plot(original['Time Serie'], denoised)\n",
        "    plt.xlabel('Time Serie')\n",
        "    plt.ylabel('CANADA - CANADIAN DOLLAR/US$')\n",
        "    plt.legend(['Actual data', 'Denoised data'], loc='best')\n",
        "denoised = wavelet_denoise(data_set, denoise_preprocess(data_set))\n",
        "plot_before_after_denoise(data_set, denoised['denoised'])"
      ],
      "metadata": {
        "colab": {
          "base_uri": "https://localhost:8080/",
          "height": 635
        },
        "id": "qQC1s16lj_9c",
        "outputId": "eb8f7788-bf75-48e4-dc37-994975abd328"
      },
      "execution_count": 10,
      "outputs": [
        {
          "output_type": "display_data",
          "data": {
            "text/plain": [
              "<Figure size 1500x800 with 1 Axes>"
            ],
            "image/png": "[encoded data removed]"
          },
          "metadata": {}
        }
      ]
    },
    {
      "cell_type": "code",
      "source": [
        "data_set.head()"
      ],
      "metadata": {
        "colab": {
          "base_uri": "https://localhost:8080/",
          "height": 412
        },
        "id": "9Hs3wgW1ionR",
        "outputId": "9ea6677b-c5c8-4064-a730-a03617606b7e"
      },
      "execution_count": 11,
      "outputs": [
        {
          "output_type": "execute_result",
          "data": {
            "text/plain": [
              "   Unnamed: 0  Time Serie  AUSTRALIA - AUSTRALIAN DOLLAR/US$  \\\n",
              "0           0  2000-01-03                             1.5172   \n",
              "1           1  2000-01-04                             1.5239   \n",
              "2           2  2000-01-05                             1.5267   \n",
              "3           3  2000-01-06                             1.5291   \n",
              "4           4  2000-01-07                             1.5272   \n",
              "\n",
              "   EURO AREA - EURO/US$  NEW ZEALAND - NEW ZELAND DOLLAR/US$  \\\n",
              "0                0.9847                               1.9033   \n",
              "1                0.9700                               1.9238   \n",
              "2                0.9676                               1.9339   \n",
              "3                0.9686                               1.9436   \n",
              "4                0.9714                               1.9380   \n",
              "\n",
              "   UNITED KINGDOM - UNITED KINGDOM POUND/US$  BRAZIL - REAL/US$  \\\n",
              "0                                     0.6146             1.8050   \n",
              "1                                     0.6109             1.8405   \n",
              "2                                     0.6092             1.8560   \n",
              "3                                     0.6070             1.8400   \n",
              "4                                     0.6104             1.8310   \n",
              "\n",
              "   CANADA - CANADIAN DOLLAR/US$  CHINA - YUAN/US$  \\\n",
              "0                        1.4465            8.2798   \n",
              "1                        1.4518            8.2799   \n",
              "2                        1.4518            8.2798   \n",
              "3                        1.4571            8.2797   \n",
              "4                        1.4505            8.2794   \n",
              "\n",
              "   HONG KONG - HONG KONG DOLLAR/US$  ...  DENMARK - DANISH KRONE/US$  \\\n",
              "0                            7.7765  ...                      7.3290   \n",
              "1                            7.7775  ...                      7.2180   \n",
              "2                            7.7780  ...                      7.2080   \n",
              "3                            7.7785  ...                      7.2125   \n",
              "4                            7.7783  ...                      7.2285   \n",
              "\n",
              "   JAPAN - YEN/US$  MALAYSIA - RINGGIT/US$  NORWAY - NORWEGIAN KRONE/US$  \\\n",
              "0           101.70                     3.8                         7.964   \n",
              "1           103.09                     3.8                         7.934   \n",
              "2           103.77                     3.8                         7.935   \n",
              "3           105.19                     3.8                         7.940   \n",
              "4           105.17                     3.8                         7.966   \n",
              "\n",
              "   SWEDEN - KRONA/US$  SRI LANKA - SRI LANKAN RUPEE/US$  \\\n",
              "0              8.4430                             72.30   \n",
              "1              8.3600                             72.65   \n",
              "2              8.3530                             72.95   \n",
              "3              8.3675                             72.95   \n",
              "4              8.4150                             73.15   \n",
              "\n",
              "   SWITZERLAND - FRANC/US$  TAIWAN - NEW TAIWAN DOLLAR/US$  \\\n",
              "0                   1.5808                           31.38   \n",
              "1                   1.5565                           30.60   \n",
              "2                   1.5526                           30.80   \n",
              "3                   1.5540                           31.75   \n",
              "4                   1.5623                           30.85   \n",
              "\n",
              "   THAILAND - BAHT/US$  denoised  \n",
              "0                36.97  1.449221  \n",
              "1                37.13  1.449460  \n",
              "2                37.10  1.452052  \n",
              "3                37.62  1.454014  \n",
              "4                37.30  1.455345  \n",
              "\n",
              "[5 rows x 25 columns]"
            ],
            "text/html": [
              "\n",
              "  <div id=\"df-e53ceb33-df9f-43bd-b3f9-53691da95697\" class=\"colab-df-container\">\n",
              "    <div>\n",
              "<style scoped>\n",
              "    .dataframe tbody tr th:only-of-type {\n",
              "        vertical-align: middle;\n",
              "    }\n",
              "\n",
              "    .dataframe tbody tr th {\n",
              "        vertical-align: top;\n",
              "    }\n",
              "\n",
              "    .dataframe thead th {\n",
              "        text-align: right;\n",
              "    }\n",
              "</style>\n",
              "<table border=\"1\" class=\"dataframe\">\n",
              "  <thead>\n",
              "    <tr style=\"text-align: right;\">\n",
              "      <th></th>\n",
              "      <th>Unnamed: 0</th>\n",
              "      <th>Time Serie</th>\n",
              "      <th>AUSTRALIA - AUSTRALIAN DOLLAR/US$</th>\n",
              "      <th>EURO AREA - EURO/US$</th>\n",
              "      <th>NEW ZEALAND - NEW ZELAND DOLLAR/US$</th>\n",
              "      <th>UNITED KINGDOM - UNITED KINGDOM POUND/US$</th>\n",
              "      <th>BRAZIL - REAL/US$</th>\n",
              "      <th>CANADA - CANADIAN DOLLAR/US$</th>\n",
              "      <th>CHINA - YUAN/US$</th>\n",
              "      <th>HONG KONG - HONG KONG DOLLAR/US$</th>\n",
              "      <th>...</th>\n",
              "      <th>DENMARK - DANISH KRONE/US$</th>\n",
              "      <th>JAPAN - YEN/US$</th>\n",
              "      <th>MALAYSIA - RINGGIT/US$</th>\n",
              "      <th>NORWAY - NORWEGIAN KRONE/US$</th>\n",
              "      <th>SWEDEN - KRONA/US$</th>\n",
              "      <th>SRI LANKA - SRI LANKAN RUPEE/US$</th>\n",
              "      <th>SWITZERLAND - FRANC/US$</th>\n",
              "      <th>TAIWAN - NEW TAIWAN DOLLAR/US$</th>\n",
              "      <th>THAILAND - BAHT/US$</th>\n",
              "      <th>denoised</th>\n",
              "    </tr>\n",
              "  </thead>\n",
              "  <tbody>\n",
              "    <tr>\n",
              "      <th>0</th>\n",
              "      <td>0</td>\n",
              "      <td>2000-01-03</td>\n",
              "      <td>1.5172</td>\n",
              "      <td>0.9847</td>\n",
              "      <td>1.9033</td>\n",
              "      <td>0.6146</td>\n",
              "      <td>1.8050</td>\n",
              "      <td>1.4465</td>\n",
              "      <td>8.2798</td>\n",
              "      <td>7.7765</td>\n",
              "      <td>...</td>\n",
              "      <td>7.3290</td>\n",
              "      <td>101.70</td>\n",
              "      <td>3.8</td>\n",
              "      <td>7.964</td>\n",
              "      <td>8.4430</td>\n",
              "      <td>72.30</td>\n",
              "      <td>1.5808</td>\n",
              "      <td>31.38</td>\n",
              "      <td>36.97</td>\n",
              "      <td>1.449221</td>\n",
              "    </tr>\n",
              "    <tr>\n",
              "      <th>1</th>\n",
              "      <td>1</td>\n",
              "      <td>2000-01-04</td>\n",
              "      <td>1.5239</td>\n",
              "      <td>0.9700</td>\n",
              "      <td>1.9238</td>\n",
              "      <td>0.6109</td>\n",
              "      <td>1.8405</td>\n",
              "      <td>1.4518</td>\n",
              "      <td>8.2799</td>\n",
              "      <td>7.7775</td>\n",
              "      <td>...</td>\n",
              "      <td>7.2180</td>\n",
              "      <td>103.09</td>\n",
              "      <td>3.8</td>\n",
              "      <td>7.934</td>\n",
              "      <td>8.3600</td>\n",
              "      <td>72.65</td>\n",
              "      <td>1.5565</td>\n",
              "      <td>30.60</td>\n",
              "      <td>37.13</td>\n",
              "      <td>1.449460</td>\n",
              "    </tr>\n",
              "    <tr>\n",
              "      <th>2</th>\n",
              "      <td>2</td>\n",
              "      <td>2000-01-05</td>\n",
              "      <td>1.5267</td>\n",
              "      <td>0.9676</td>\n",
              "      <td>1.9339</td>\n",
              "      <td>0.6092</td>\n",
              "      <td>1.8560</td>\n",
              "      <td>1.4518</td>\n",
              "      <td>8.2798</td>\n",
              "      <td>7.7780</td>\n",
              "      <td>...</td>\n",
              "      <td>7.2080</td>\n",
              "      <td>103.77</td>\n",
              "      <td>3.8</td>\n",
              "      <td>7.935</td>\n",
              "      <td>8.3530</td>\n",
              "      <td>72.95</td>\n",
              "      <td>1.5526</td>\n",
              "      <td>30.80</td>\n",
              "      <td>37.10</td>\n",
              "      <td>1.452052</td>\n",
              "    </tr>\n",
              "    <tr>\n",
              "      <th>3</th>\n",
              "      <td>3</td>\n",
              "      <td>2000-01-06</td>\n",
              "      <td>1.5291</td>\n",
              "      <td>0.9686</td>\n",
              "      <td>1.9436</td>\n",
              "      <td>0.6070</td>\n",
              "      <td>1.8400</td>\n",
              "      <td>1.4571</td>\n",
              "      <td>8.2797</td>\n",
              "      <td>7.7785</td>\n",
              "      <td>...</td>\n",
              "      <td>7.2125</td>\n",
              "      <td>105.19</td>\n",
              "      <td>3.8</td>\n",
              "      <td>7.940</td>\n",
              "      <td>8.3675</td>\n",
              "      <td>72.95</td>\n",
              "      <td>1.5540</td>\n",
              "      <td>31.75</td>\n",
              "      <td>37.62</td>\n",
              "      <td>1.454014</td>\n",
              "    </tr>\n",
              "    <tr>\n",
              "      <th>4</th>\n",
              "      <td>4</td>\n",
              "      <td>2000-01-07</td>\n",
              "      <td>1.5272</td>\n",
              "      <td>0.9714</td>\n",
              "      <td>1.9380</td>\n",
              "      <td>0.6104</td>\n",
              "      <td>1.8310</td>\n",
              "      <td>1.4505</td>\n",
              "      <td>8.2794</td>\n",
              "      <td>7.7783</td>\n",
              "      <td>...</td>\n",
              "      <td>7.2285</td>\n",
              "      <td>105.17</td>\n",
              "      <td>3.8</td>\n",
              "      <td>7.966</td>\n",
              "      <td>8.4150</td>\n",
              "      <td>73.15</td>\n",
              "      <td>1.5623</td>\n",
              "      <td>30.85</td>\n",
              "      <td>37.30</td>\n",
              "      <td>1.455345</td>\n",
              "    </tr>\n",
              "  </tbody>\n",
              "</table>\n",
              "<p>5 rows × 25 columns</p>\n",
              "</div>\n",
              "    <div class=\"colab-df-buttons\">\n",
              "\n",
              "  <div class=\"colab-df-container\">\n",
              "    <button class=\"colab-df-convert\" onclick=\"convertToInteractive('df-e53ceb33-df9f-43bd-b3f9-53691da95697')\"\n",
              "            title=\"Convert this dataframe to an interactive table.\"\n",
              "            style=\"display:none;\">\n",
              "\n",
              "  <svg xmlns=\"http://www.w3.org/2000/svg\" height=\"24px\" viewBox=\"0 -960 960 960\">\n",
              "    <path d=\"M120-120v-720h720v720H120Zm60-500h600v-160H180v160Zm220 220h160v-160H400v160Zm0 220h160v-160H400v160ZM180-400h160v-160H180v160Zm440 0h160v-160H620v160ZM180-180h160v-160H180v160Zm440 0h160v-160H620v160Z\"/>\n",
              "  </svg>\n",
              "    </button>\n",
              "\n",
              "  <style>\n",
              "    .colab-df-container {\n",
              "      display:flex;\n",
              "      gap: 12px;\n",
              "    }\n",
              "\n",
              "    .colab-df-convert {\n",
              "      background-color: #E8F0FE;\n",
              "      border: none;\n",
              "      border-radius: 50%;\n",
              "      cursor: pointer;\n",
              "      display: none;\n",
              "      fill: #1967D2;\n",
              "      height: 32px;\n",
              "      padding: 0 0 0 0;\n",
              "      width: 32px;\n",
              "    }\n",
              "\n",
              "    .colab-df-convert:hover {\n",
              "      background-color: #E2EBFA;\n",
              "      box-shadow: 0px 1px 2px rgba(60, 64, 67, 0.3), 0px 1px 3px 1px rgba(60, 64, 67, 0.15);\n",
              "      fill: #174EA6;\n",
              "    }\n",
              "\n",
              "    .colab-df-buttons div {\n",
              "      margin-bottom: 4px;\n",
              "    }\n",
              "\n",
              "    [theme=dark] .colab-df-convert {\n",
              "      background-color: #3B4455;\n",
              "      fill: #D2E3FC;\n",
              "    }\n",
              "\n",
              "    [theme=dark] .colab-df-convert:hover {\n",
              "      background-color: #434B5C;\n",
              "      box-shadow: 0px 1px 3px 1px rgba(0, 0, 0, 0.15);\n",
              "      filter: drop-shadow(0px 1px 2px rgba(0, 0, 0, 0.3));\n",
              "      fill: #FFFFFF;\n",
              "    }\n",
              "  </style>\n",
              "\n",
              "    <script>\n",
              "      const buttonEl =\n",
              "        document.querySelector('#df-e53ceb33-df9f-43bd-b3f9-53691da95697 button.colab-df-convert');\n",
              "      buttonEl.style.display =\n",
              "        google.colab.kernel.accessAllowed ? 'block' : 'none';\n",
              "\n",
              "      async function convertToInteractive(key) {\n",
              "        const element = document.querySelector('#df-e53ceb33-df9f-43bd-b3f9-53691da95697');\n",
              "        const dataTable =\n",
              "          await google.colab.kernel.invokeFunction('convertToInteractive',\n",
              "                                                    [key], {});\n",
              "        if (!dataTable) return;\n",
              "\n",
              "        const docLinkHtml = 'Like what you see? Visit the ' +\n",
              "          '<a target=\"_blank\" href=https://colab.research.google.com/notebooks/data_table.ipynb>data table notebook</a>'\n",
              "          + ' to learn more about interactive tables.';\n",
              "        element.innerHTML = '';\n",
              "        dataTable['output_type'] = 'display_data';\n",
              "        await google.colab.output.renderOutput(dataTable, element);\n",
              "        const docLink = document.createElement('div');\n",
              "        docLink.innerHTML = docLinkHtml;\n",
              "        element.appendChild(docLink);\n",
              "      }\n",
              "    </script>\n",
              "  </div>\n",
              "\n",
              "\n",
              "<div id=\"df-49ef481d-55eb-4ad0-9b15-906b174d3e0d\">\n",
              "  <button class=\"colab-df-quickchart\" onclick=\"quickchart('df-49ef481d-55eb-4ad0-9b15-906b174d3e0d')\"\n",
              "            title=\"Suggest charts\"\n",
              "            style=\"display:none;\">\n",
              "\n",
              "<svg xmlns=\"http://www.w3.org/2000/svg\" height=\"24px\"viewBox=\"0 0 24 24\"\n",
              "     width=\"24px\">\n",
              "    <g>\n",
              "        <path d=\"M19 3H5c-1.1 0-2 .9-2 2v14c0 1.1.9 2 2 2h14c1.1 0 2-.9 2-2V5c0-1.1-.9-2-2-2zM9 17H7v-7h2v7zm4 0h-2V7h2v10zm4 0h-2v-4h2v4z\"/>\n",
              "    </g>\n",
              "</svg>\n",
              "  </button>\n",
              "\n",
              "<style>\n",
              "  .colab-df-quickchart {\n",
              "      --bg-color: #E8F0FE;\n",
              "      --fill-color: #1967D2;\n",
              "      --hover-bg-color: #E2EBFA;\n",
              "      --hover-fill-color: #174EA6;\n",
              "      --disabled-fill-color: #AAA;\n",
              "      --disabled-bg-color: #DDD;\n",
              "  }\n",
              "\n",
              "  [theme=dark] .colab-df-quickchart {\n",
              "      --bg-color: #3B4455;\n",
              "      --fill-color: #D2E3FC;\n",
              "      --hover-bg-color: #434B5C;\n",
              "      --hover-fill-color: #FFFFFF;\n",
              "      --disabled-bg-color: #3B4455;\n",
              "      --disabled-fill-color: #666;\n",
              "  }\n",
              "\n",
              "  .colab-df-quickchart {\n",
              "    background-color: var(--bg-color);\n",
              "    border: none;\n",
              "    border-radius: 50%;\n",
              "    cursor: pointer;\n",
              "    display: none;\n",
              "    fill: var(--fill-color);\n",
              "    height: 32px;\n",
              "    padding: 0;\n",
              "    width: 32px;\n",
              "  }\n",
              "\n",
              "  .colab-df-quickchart:hover {\n",
              "    background-color: var(--hover-bg-color);\n",
              "    box-shadow: 0 1px 2px rgba(60, 64, 67, 0.3), 0 1px 3px 1px rgba(60, 64, 67, 0.15);\n",
              "    fill: var(--button-hover-fill-color);\n",
              "  }\n",
              "\n",
              "  .colab-df-quickchart-complete:disabled,\n",
              "  .colab-df-quickchart-complete:disabled:hover {\n",
              "    background-color: var(--disabled-bg-color);\n",
              "    fill: var(--disabled-fill-color);\n",
              "    box-shadow: none;\n",
              "  }\n",
              "\n",
              "  .colab-df-spinner {\n",
              "    border: 2px solid var(--fill-color);\n",
              "    border-color: transparent;\n",
              "    border-bottom-color: var(--fill-color);\n",
              "    animation:\n",
              "      spin 1s steps(1) infinite;\n",
              "  }\n",
              "\n",
              "  @keyframes spin {\n",
              "    0% {\n",
              "      border-color: transparent;\n",
              "      border-bottom-color: var(--fill-color);\n",
              "      border-left-color: var(--fill-color);\n",
              "    }\n",
              "    20% {\n",
              "      border-color: transparent;\n",
              "      border-left-color: var(--fill-color);\n",
              "      border-top-color: var(--fill-color);\n",
              "    }\n",
              "    30% {\n",
              "      border-color: transparent;\n",
              "      border-left-color: var(--fill-color);\n",
              "      border-top-color: var(--fill-color);\n",
              "      border-right-color: var(--fill-color);\n",
              "    }\n",
              "    40% {\n",
              "      border-color: transparent;\n",
              "      border-right-color: var(--fill-color);\n",
              "      border-top-color: var(--fill-color);\n",
              "    }\n",
              "    60% {\n",
              "      border-color: transparent;\n",
              "      border-right-color: var(--fill-color);\n",
              "    }\n",
              "    80% {\n",
              "      border-color: transparent;\n",
              "      border-right-color: var(--fill-color);\n",
              "      border-bottom-color: var(--fill-color);\n",
              "    }\n",
              "    90% {\n",
              "      border-color: transparent;\n",
              "      border-bottom-color: var(--fill-color);\n",
              "    }\n",
              "  }\n",
              "</style>\n",
              "\n",
              "  <script>\n",
              "    async function quickchart(key) {\n",
              "      const quickchartButtonEl =\n",
              "        document.querySelector('#' + key + ' button');\n",
              "      quickchartButtonEl.disabled = true;  // To prevent multiple clicks.\n",
              "      quickchartButtonEl.classList.add('colab-df-spinner');\n",
              "      try {\n",
              "        const charts = await google.colab.kernel.invokeFunction(\n",
              "            'suggestCharts', [key], {});\n",
              "      } catch (error) {\n",
              "        console.error('Error during call to suggestCharts:', error);\n",
              "      }\n",
              "      quickchartButtonEl.classList.remove('colab-df-spinner');\n",
              "      quickchartButtonEl.classList.add('colab-df-quickchart-complete');\n",
              "    }\n",
              "    (() => {\n",
              "      let quickchartButtonEl =\n",
              "        document.querySelector('#df-49ef481d-55eb-4ad0-9b15-906b174d3e0d button');\n",
              "      quickchartButtonEl.style.display =\n",
              "        google.colab.kernel.accessAllowed ? 'block' : 'none';\n",
              "    })();\n",
              "  </script>\n",
              "</div>\n",
              "    </div>\n",
              "  </div>\n"
            ],
            "application/vnd.google.colaboratory.intrinsic+json": {
              "type": "dataframe",
              "variable_name": "data_set"
            }
          },
          "metadata": {},
          "execution_count": 11
        }
      ]
    },
    {
      "cell_type": "code",
      "source": [
        "denoised.head()"
      ],
      "metadata": {
        "colab": {
          "base_uri": "https://localhost:8080/",
          "height": 206
        },
        "id": "1mPa-qttkdDg",
        "outputId": "b785dc66-0f15-45e9-dff3-0938c28e9bf4"
      },
      "execution_count": 12,
      "outputs": [
        {
          "output_type": "execute_result",
          "data": {
            "text/plain": [
              "        Date   Price  denoised\n",
              "0 2000-01-03  1.4465  1.449221\n",
              "1 2000-01-04  1.4518  1.449460\n",
              "2 2000-01-05  1.4518  1.452052\n",
              "3 2000-01-06  1.4571  1.454014\n",
              "4 2000-01-07  1.4505  1.455345"
            ],
            "text/html": [
              "\n",
              "  <div id=\"df-1ce15eaa-7fc6-4a66-9ccb-beb99b1b3f5f\" class=\"colab-df-container\">\n",
              "    <div>\n",
              "<style scoped>\n",
              "    .dataframe tbody tr th:only-of-type {\n",
              "        vertical-align: middle;\n",
              "    }\n",
              "\n",
              "    .dataframe tbody tr th {\n",
              "        vertical-align: top;\n",
              "    }\n",
              "\n",
              "    .dataframe thead th {\n",
              "        text-align: right;\n",
              "    }\n",
              "</style>\n",
              "<table border=\"1\" class=\"dataframe\">\n",
              "  <thead>\n",
              "    <tr style=\"text-align: right;\">\n",
              "      <th></th>\n",
              "      <th>Date</th>\n",
              "      <th>Price</th>\n",
              "      <th>denoised</th>\n",
              "    </tr>\n",
              "  </thead>\n",
              "  <tbody>\n",
              "    <tr>\n",
              "      <th>0</th>\n",
              "      <td>2000-01-03</td>\n",
              "      <td>1.4465</td>\n",
              "      <td>1.449221</td>\n",
              "    </tr>\n",
              "    <tr>\n",
              "      <th>1</th>\n",
              "      <td>2000-01-04</td>\n",
              "      <td>1.4518</td>\n",
              "      <td>1.449460</td>\n",
              "    </tr>\n",
              "    <tr>\n",
              "      <th>2</th>\n",
              "      <td>2000-01-05</td>\n",
              "      <td>1.4518</td>\n",
              "      <td>1.452052</td>\n",
              "    </tr>\n",
              "    <tr>\n",
              "      <th>3</th>\n",
              "      <td>2000-01-06</td>\n",
              "      <td>1.4571</td>\n",
              "      <td>1.454014</td>\n",
              "    </tr>\n",
              "    <tr>\n",
              "      <th>4</th>\n",
              "      <td>2000-01-07</td>\n",
              "      <td>1.4505</td>\n",
              "      <td>1.455345</td>\n",
              "    </tr>\n",
              "  </tbody>\n",
              "</table>\n",
              "</div>\n",
              "    <div class=\"colab-df-buttons\">\n",
              "\n",
              "  <div class=\"colab-df-container\">\n",
              "    <button class=\"colab-df-convert\" onclick=\"convertToInteractive('df-1ce15eaa-7fc6-4a66-9ccb-beb99b1b3f5f')\"\n",
              "            title=\"Convert this dataframe to an interactive table.\"\n",
              "            style=\"display:none;\">\n",
              "\n",
              "  <svg xmlns=\"http://www.w3.org/2000/svg\" height=\"24px\" viewBox=\"0 -960 960 960\">\n",
              "    <path d=\"M120-120v-720h720v720H120Zm60-500h600v-160H180v160Zm220 220h160v-160H400v160Zm0 220h160v-160H400v160ZM180-400h160v-160H180v160Zm440 0h160v-160H620v160ZM180-180h160v-160H180v160Zm440 0h160v-160H620v160Z\"/>\n",
              "  </svg>\n",
              "    </button>\n",
              "\n",
              "  <style>\n",
              "    .colab-df-container {\n",
              "      display:flex;\n",
              "      gap: 12px;\n",
              "    }\n",
              "\n",
              "    .colab-df-convert {\n",
              "      background-color: #E8F0FE;\n",
              "      border: none;\n",
              "      border-radius: 50%;\n",
              "      cursor: pointer;\n",
              "      display: none;\n",
              "      fill: #1967D2;\n",
              "      height: 32px;\n",
              "      padding: 0 0 0 0;\n",
              "      width: 32px;\n",
              "    }\n",
              "\n",
              "    .colab-df-convert:hover {\n",
              "      background-color: #E2EBFA;\n",
              "      box-shadow: 0px 1px 2px rgba(60, 64, 67, 0.3), 0px 1px 3px 1px rgba(60, 64, 67, 0.15);\n",
              "      fill: #174EA6;\n",
              "    }\n",
              "\n",
              "    .colab-df-buttons div {\n",
              "      margin-bottom: 4px;\n",
              "    }\n",
              "\n",
              "    [theme=dark] .colab-df-convert {\n",
              "      background-color: #3B4455;\n",
              "      fill: #D2E3FC;\n",
              "    }\n",
              "\n",
              "    [theme=dark] .colab-df-convert:hover {\n",
              "      background-color: #434B5C;\n",
              "      box-shadow: 0px 1px 3px 1px rgba(0, 0, 0, 0.15);\n",
              "      filter: drop-shadow(0px 1px 2px rgba(0, 0, 0, 0.3));\n",
              "      fill: #FFFFFF;\n",
              "    }\n",
              "  </style>\n",
              "\n",
              "    <script>\n",
              "      const buttonEl =\n",
              "        document.querySelector('#df-1ce15eaa-7fc6-4a66-9ccb-beb99b1b3f5f button.colab-df-convert');\n",
              "      buttonEl.style.display =\n",
              "        google.colab.kernel.accessAllowed ? 'block' : 'none';\n",
              "\n",
              "      async function convertToInteractive(key) {\n",
              "        const element = document.querySelector('#df-1ce15eaa-7fc6-4a66-9ccb-beb99b1b3f5f');\n",
              "        const dataTable =\n",
              "          await google.colab.kernel.invokeFunction('convertToInteractive',\n",
              "                                                    [key], {});\n",
              "        if (!dataTable) return;\n",
              "\n",
              "        const docLinkHtml = 'Like what you see? Visit the ' +\n",
              "          '<a target=\"_blank\" href=https://colab.research.google.com/notebooks/data_table.ipynb>data table notebook</a>'\n",
              "          + ' to learn more about interactive tables.';\n",
              "        element.innerHTML = '';\n",
              "        dataTable['output_type'] = 'display_data';\n",
              "        await google.colab.output.renderOutput(dataTable, element);\n",
              "        const docLink = document.createElement('div');\n",
              "        docLink.innerHTML = docLinkHtml;\n",
              "        element.appendChild(docLink);\n",
              "      }\n",
              "    </script>\n",
              "  </div>\n",
              "\n",
              "\n",
              "<div id=\"df-7e0d5782-c5cf-4342-99b3-3000fb103b52\">\n",
              "  <button class=\"colab-df-quickchart\" onclick=\"quickchart('df-7e0d5782-c5cf-4342-99b3-3000fb103b52')\"\n",
              "            title=\"Suggest charts\"\n",
              "            style=\"display:none;\">\n",
              "\n",
              "<svg xmlns=\"http://www.w3.org/2000/svg\" height=\"24px\"viewBox=\"0 0 24 24\"\n",
              "     width=\"24px\">\n",
              "    <g>\n",
              "        <path d=\"M19 3H5c-1.1 0-2 .9-2 2v14c0 1.1.9 2 2 2h14c1.1 0 2-.9 2-2V5c0-1.1-.9-2-2-2zM9 17H7v-7h2v7zm4 0h-2V7h2v10zm4 0h-2v-4h2v4z\"/>\n",
              "    </g>\n",
              "</svg>\n",
              "  </button>\n",
              "\n",
              "<style>\n",
              "  .colab-df-quickchart {\n",
              "      --bg-color: #E8F0FE;\n",
              "      --fill-color: #1967D2;\n",
              "      --hover-bg-color: #E2EBFA;\n",
              "      --hover-fill-color: #174EA6;\n",
              "      --disabled-fill-color: #AAA;\n",
              "      --disabled-bg-color: #DDD;\n",
              "  }\n",
              "\n",
              "  [theme=dark] .colab-df-quickchart {\n",
              "      --bg-color: #3B4455;\n",
              "      --fill-color: #D2E3FC;\n",
              "      --hover-bg-color: #434B5C;\n",
              "      --hover-fill-color: #FFFFFF;\n",
              "      --disabled-bg-color: #3B4455;\n",
              "      --disabled-fill-color: #666;\n",
              "  }\n",
              "\n",
              "  .colab-df-quickchart {\n",
              "    background-color: var(--bg-color);\n",
              "    border: none;\n",
              "    border-radius: 50%;\n",
              "    cursor: pointer;\n",
              "    display: none;\n",
              "    fill: var(--fill-color);\n",
              "    height: 32px;\n",
              "    padding: 0;\n",
              "    width: 32px;\n",
              "  }\n",
              "\n",
              "  .colab-df-quickchart:hover {\n",
              "    background-color: var(--hover-bg-color);\n",
              "    box-shadow: 0 1px 2px rgba(60, 64, 67, 0.3), 0 1px 3px 1px rgba(60, 64, 67, 0.15);\n",
              "    fill: var(--button-hover-fill-color);\n",
              "  }\n",
              "\n",
              "  .colab-df-quickchart-complete:disabled,\n",
              "  .colab-df-quickchart-complete:disabled:hover {\n",
              "    background-color: var(--disabled-bg-color);\n",
              "    fill: var(--disabled-fill-color);\n",
              "    box-shadow: none;\n",
              "  }\n",
              "\n",
              "  .colab-df-spinner {\n",
              "    border: 2px solid var(--fill-color);\n",
              "    border-color: transparent;\n",
              "    border-bottom-color: var(--fill-color);\n",
              "    animation:\n",
              "      spin 1s steps(1) infinite;\n",
              "  }\n",
              "\n",
              "  @keyframes spin {\n",
              "    0% {\n",
              "      border-color: transparent;\n",
              "      border-bottom-color: var(--fill-color);\n",
              "      border-left-color: var(--fill-color);\n",
              "    }\n",
              "    20% {\n",
              "      border-color: transparent;\n",
              "      border-left-color: var(--fill-color);\n",
              "      border-top-color: var(--fill-color);\n",
              "    }\n",
              "    30% {\n",
              "      border-color: transparent;\n",
              "      border-left-color: var(--fill-color);\n",
              "      border-top-color: var(--fill-color);\n",
              "      border-right-color: var(--fill-color);\n",
              "    }\n",
              "    40% {\n",
              "      border-color: transparent;\n",
              "      border-right-color: var(--fill-color);\n",
              "      border-top-color: var(--fill-color);\n",
              "    }\n",
              "    60% {\n",
              "      border-color: transparent;\n",
              "      border-right-color: var(--fill-color);\n",
              "    }\n",
              "    80% {\n",
              "      border-color: transparent;\n",
              "      border-right-color: var(--fill-color);\n",
              "      border-bottom-color: var(--fill-color);\n",
              "    }\n",
              "    90% {\n",
              "      border-color: transparent;\n",
              "      border-bottom-color: var(--fill-color);\n",
              "    }\n",
              "  }\n",
              "</style>\n",
              "\n",
              "  <script>\n",
              "    async function quickchart(key) {\n",
              "      const quickchartButtonEl =\n",
              "        document.querySelector('#' + key + ' button');\n",
              "      quickchartButtonEl.disabled = true;  // To prevent multiple clicks.\n",
              "      quickchartButtonEl.classList.add('colab-df-spinner');\n",
              "      try {\n",
              "        const charts = await google.colab.kernel.invokeFunction(\n",
              "            'suggestCharts', [key], {});\n",
              "      } catch (error) {\n",
              "        console.error('Error during call to suggestCharts:', error);\n",
              "      }\n",
              "      quickchartButtonEl.classList.remove('colab-df-spinner');\n",
              "      quickchartButtonEl.classList.add('colab-df-quickchart-complete');\n",
              "    }\n",
              "    (() => {\n",
              "      let quickchartButtonEl =\n",
              "        document.querySelector('#df-7e0d5782-c5cf-4342-99b3-3000fb103b52 button');\n",
              "      quickchartButtonEl.style.display =\n",
              "        google.colab.kernel.accessAllowed ? 'block' : 'none';\n",
              "    })();\n",
              "  </script>\n",
              "</div>\n",
              "    </div>\n",
              "  </div>\n"
            ],
            "application/vnd.google.colaboratory.intrinsic+json": {
              "type": "dataframe",
              "variable_name": "denoised",
              "summary": "{\n  \"name\": \"denoised\",\n  \"rows\": 5217,\n  \"fields\": [\n    {\n      \"column\": \"Date\",\n      \"properties\": {\n        \"dtype\": \"date\",\n        \"min\": \"2000-01-03 00:00:00\",\n        \"max\": \"2019-12-31 00:00:00\",\n        \"num_unique_values\": 5217,\n        \"samples\": [\n          \"2009-11-11 00:00:00\",\n          \"2003-07-01 00:00:00\",\n          \"2017-10-27 00:00:00\"\n        ],\n        \"semantic_type\": \"\",\n        \"description\": \"\"\n      }\n    },\n    {\n      \"column\": \"Price\",\n      \"properties\": {\n        \"dtype\": \"number\",\n        \"std\": 0.18214479239020068,\n        \"min\": 0.9168,\n        \"max\": 1.6128,\n        \"num_unique_values\": 3290,\n        \"samples\": [\n          1.1384,\n          1.2638,\n          1.1591\n        ],\n        \"semantic_type\": \"\",\n        \"description\": \"\"\n      }\n    },\n    {\n      \"column\": \"denoised\",\n      \"properties\": {\n        \"dtype\": \"number\",\n        \"std\": 0.1820905069990546,\n        \"min\": 0.9282251118649576,\n        \"max\": 1.6101312922465363,\n        \"num_unique_values\": 5217,\n        \"samples\": [\n          1.051248213635896,\n          1.3422486625490129,\n          1.288575324571684\n        ],\n        \"semantic_type\": \"\",\n        \"description\": \"\"\n      }\n    }\n  ]\n}"
            }
          },
          "metadata": {},
          "execution_count": 12
        }
      ]
    },
    {
      "cell_type": "code",
      "execution_count": 13,
      "metadata": {
        "execution": {
          "iopub.execute_input": "2020-09-02T12:41:19.607341Z",
          "iopub.status.busy": "2020-09-02T12:41:19.606606Z",
          "iopub.status.idle": "2020-09-02T12:41:19.609672Z",
          "shell.execute_reply": "2020-09-02T12:41:19.609195Z"
        },
        "id": "R2BO97fBQM6C",
        "papermill": {
          "duration": 0.019033,
          "end_time": "2020-09-02T12:41:19.609775",
          "exception": false,
          "start_time": "2020-09-02T12:41:19.590742",
          "status": "completed"
        },
        "tags": []
      },
      "outputs": [],
      "source": [
        "#Preprocessing data set\n",
        "df = np.array(df).reshape(-1,1)"
      ]
    },
    {
      "cell_type": "code",
      "execution_count": 14,
      "metadata": {
        "execution": {
          "iopub.execute_input": "2020-09-02T12:41:19.637880Z",
          "iopub.status.busy": "2020-09-02T12:41:19.637039Z",
          "iopub.status.idle": "2020-09-02T12:41:19.640973Z",
          "shell.execute_reply": "2020-09-02T12:41:19.640489Z"
        },
        "id": "RfVzi2rhS_J7",
        "outputId": "8b25fe32-2bf2-41b0-e39f-249630edd60b",
        "papermill": {
          "duration": 0.019691,
          "end_time": "2020-09-02T12:41:19.641058",
          "exception": false,
          "start_time": "2020-09-02T12:41:19.621367",
          "status": "completed"
        },
        "tags": [],
        "colab": {
          "base_uri": "https://localhost:8080/"
        }
      },
      "outputs": [
        {
          "output_type": "execute_result",
          "data": {
            "text/plain": [
              "array([[1.4465],\n",
              "       [1.4518],\n",
              "       [1.4518],\n",
              "       ...,\n",
              "       [1.3073],\n",
              "       [1.3058],\n",
              "       [1.2962]])"
            ]
          },
          "metadata": {},
          "execution_count": 14
        }
      ],
      "source": [
        "df"
      ]
    },
    {
      "cell_type": "code",
      "source": [
        "df_dn = np.array(denoised['denoised']).reshape(-1,1)\n",
        "df_dn"
      ],
      "metadata": {
        "colab": {
          "base_uri": "https://localhost:8080/"
        },
        "id": "7SWR2ctJIpc3",
        "outputId": "5311b706-fa59-4590-b424-13927bbb2724"
      },
      "execution_count": 15,
      "outputs": [
        {
          "output_type": "execute_result",
          "data": {
            "text/plain": [
              "array([[1.44922147],\n",
              "       [1.44945974],\n",
              "       [1.45205248],\n",
              "       ...,\n",
              "       [1.30712994],\n",
              "       [1.3019178 ],\n",
              "       [1.29856927]])"
            ]
          },
          "metadata": {},
          "execution_count": 15
        }
      ]
    },
    {
      "cell_type": "code",
      "execution_count": 16,
      "metadata": {
        "execution": {
          "iopub.execute_input": "2020-09-02T12:41:19.669344Z",
          "iopub.status.busy": "2020-09-02T12:41:19.668598Z",
          "iopub.status.idle": "2020-09-02T12:41:20.409213Z",
          "shell.execute_reply": "2020-09-02T12:41:20.409771Z"
        },
        "id": "6jhJwcG1QQMD",
        "papermill": {
          "duration": 0.757135,
          "end_time": "2020-09-02T12:41:20.409930",
          "exception": false,
          "start_time": "2020-09-02T12:41:19.652795",
          "status": "completed"
        },
        "tags": []
      },
      "outputs": [],
      "source": [
        "from sklearn.preprocessing import MinMaxScaler\n",
        "scaler = MinMaxScaler()\n",
        "scaler_dn = MinMaxScaler()"
      ]
    },
    {
      "cell_type": "code",
      "execution_count": 17,
      "metadata": {
        "execution": {
          "iopub.execute_input": "2020-09-02T12:41:20.452517Z",
          "iopub.status.busy": "2020-09-02T12:41:20.450647Z",
          "iopub.status.idle": "2020-09-02T12:41:20.453561Z",
          "shell.execute_reply": "2020-09-02T12:41:20.454335Z"
        },
        "id": "W31WJ9-SQfki",
        "papermill": {
          "duration": 0.027907,
          "end_time": "2020-09-02T12:41:20.454513",
          "exception": false,
          "start_time": "2020-09-02T12:41:20.426606",
          "status": "completed"
        },
        "tags": []
      },
      "outputs": [],
      "source": [
        "df = scaler.fit_transform(df)\n",
        "df_dn = scaler_dn.fit_transform(df_dn)"
      ]
    },
    {
      "cell_type": "code",
      "execution_count": 18,
      "metadata": {
        "execution": {
          "iopub.execute_input": "2020-09-02T12:41:20.495400Z",
          "iopub.status.busy": "2020-09-02T12:41:20.494558Z",
          "iopub.status.idle": "2020-09-02T12:41:20.498602Z",
          "shell.execute_reply": "2020-09-02T12:41:20.499313Z"
        },
        "id": "CBKGP4mRQS-L",
        "outputId": "13a8fe71-1d14-485f-cbd1-07c3a87d61f7",
        "papermill": {
          "duration": 0.028058,
          "end_time": "2020-09-02T12:41:20.499480",
          "exception": false,
          "start_time": "2020-09-02T12:41:20.471422",
          "status": "completed"
        },
        "tags": [],
        "colab": {
          "base_uri": "https://localhost:8080/"
        }
      },
      "outputs": [
        {
          "output_type": "execute_result",
          "data": {
            "text/plain": [
              "array([[0.76106322],\n",
              "       [0.76867816],\n",
              "       [0.76867816],\n",
              "       ...,\n",
              "       [0.56106322],\n",
              "       [0.55890805],\n",
              "       [0.54511494]])"
            ]
          },
          "metadata": {},
          "execution_count": 18
        }
      ],
      "source": [
        "df"
      ]
    },
    {
      "cell_type": "code",
      "source": [
        "df_dn"
      ],
      "metadata": {
        "colab": {
          "base_uri": "https://localhost:8080/"
        },
        "id": "4jUEhIeLJG9P",
        "outputId": "8a304aa4-367a-464e-edd7-ece9ee8c237c"
      },
      "execution_count": 19,
      "outputs": [
        {
          "output_type": "execute_result",
          "data": {
            "text/plain": [
              "array([[0.76402938],\n",
              "       [0.7643788 ],\n",
              "       [0.76818099],\n",
              "       ...,\n",
              "       [0.55565536],\n",
              "       [0.54801188],\n",
              "       [0.54310134]])"
            ]
          },
          "metadata": {},
          "execution_count": 19
        }
      ]
    },
    {
      "cell_type": "code",
      "execution_count": 20,
      "metadata": {
        "execution": {
          "iopub.execute_input": "2020-09-02T12:41:20.553626Z",
          "iopub.status.busy": "2020-09-02T12:41:20.551614Z",
          "iopub.status.idle": "2020-09-02T12:41:20.556801Z",
          "shell.execute_reply": "2020-09-02T12:41:20.552547Z"
        },
        "id": "d5ygb4hhQYFz",
        "outputId": "2adf2384-b020-491d-b512-0ae9f6816ded",
        "papermill": {
          "duration": 0.039198,
          "end_time": "2020-09-02T12:41:20.557071",
          "exception": false,
          "start_time": "2020-09-02T12:41:20.517873",
          "status": "completed"
        },
        "tags": [],
        "colab": {
          "base_uri": "https://localhost:8080/"
        }
      },
      "outputs": [
        {
          "output_type": "stream",
          "name": "stdout",
          "text": [
            "(4800, 1)\n",
            "(417, 1)\n",
            "(4800, 1)\n",
            "(417, 1)\n"
          ]
        }
      ],
      "source": [
        "#Training and test sets\n",
        "train = df[:4800]\n",
        "test = df[4800:]\n",
        "train_dn = df_dn[:4800]\n",
        "test_dn = df_dn[4800:]\n",
        "\n",
        "print(train.shape)\n",
        "print(test.shape)\n",
        "print(train_dn.shape)\n",
        "print(test_dn.shape)"
      ]
    },
    {
      "cell_type": "code",
      "execution_count": 21,
      "metadata": {
        "execution": {
          "iopub.execute_input": "2020-09-02T12:41:20.609045Z",
          "iopub.status.busy": "2020-09-02T12:41:20.608179Z",
          "iopub.status.idle": "2020-09-02T12:41:20.612882Z",
          "shell.execute_reply": "2020-09-02T12:41:20.613598Z"
        },
        "id": "bfxk8KwfQnYi",
        "papermill": {
          "duration": 0.033506,
          "end_time": "2020-09-02T12:41:20.613797",
          "exception": false,
          "start_time": "2020-09-02T12:41:20.580291",
          "status": "completed"
        },
        "tags": []
      },
      "outputs": [],
      "source": [
        "def get_data(data, look_back):\n",
        "  datax, datay = [],[]\n",
        "  for i in range(len(data)-look_back-1):\n",
        "    datax.append(data[i:(i+look_back),0])\n",
        "    datay.append(data[i+look_back,0])\n",
        "  return np.array(datax) , np.array(datay)"
      ]
    },
    {
      "cell_type": "code",
      "execution_count": 22,
      "metadata": {
        "execution": {
          "iopub.execute_input": "2020-09-02T12:41:20.661793Z",
          "iopub.status.busy": "2020-09-02T12:41:20.660912Z",
          "iopub.status.idle": "2020-09-02T12:41:20.676808Z",
          "shell.execute_reply": "2020-09-02T12:41:20.677905Z"
        },
        "id": "UtWsYOBeQqq6",
        "outputId": "4f1765c9-5fcf-4310-bfac-7aca785205b4",
        "papermill": {
          "duration": 0.046412,
          "end_time": "2020-09-02T12:41:20.678066",
          "exception": false,
          "start_time": "2020-09-02T12:41:20.631654",
          "status": "completed"
        },
        "tags": [],
        "colab": {
          "base_uri": "https://localhost:8080/"
        }
      },
      "outputs": [
        {
          "output_type": "stream",
          "name": "stdout",
          "text": [
            "(4798, 1)\n",
            "(4798,)\n",
            "(4798, 1)\n",
            "(4798,)\n"
          ]
        }
      ],
      "source": [
        "look_back = 1\n",
        "\n",
        "x_train , y_train = get_data(train, look_back)\n",
        "x_train_dn , y_train_dn = get_data(train_dn, look_back)\n",
        "print(x_train.shape)\n",
        "print(y_train.shape)\n",
        "print(x_train_dn.shape)\n",
        "print(y_train_dn.shape)"
      ]
    },
    {
      "cell_type": "code",
      "execution_count": 23,
      "metadata": {
        "execution": {
          "iopub.execute_input": "2020-09-02T12:41:20.723161Z",
          "iopub.status.busy": "2020-09-02T12:41:20.722382Z",
          "iopub.status.idle": "2020-09-02T12:41:20.729121Z",
          "shell.execute_reply": "2020-09-02T12:41:20.729892Z"
        },
        "id": "QmQ4aTwAQuQz",
        "outputId": "07abba5e-d206-4316-f3ef-e3a9b9508cf9",
        "papermill": {
          "duration": 0.03329,
          "end_time": "2020-09-02T12:41:20.730037",
          "exception": false,
          "start_time": "2020-09-02T12:41:20.696747",
          "status": "completed"
        },
        "tags": [],
        "colab": {
          "base_uri": "https://localhost:8080/"
        }
      },
      "outputs": [
        {
          "output_type": "stream",
          "name": "stdout",
          "text": [
            "(415, 1)\n",
            "(415,)\n",
            "(415, 1)\n",
            "(415,)\n"
          ]
        }
      ],
      "source": [
        "x_test , y_test = get_data(test,look_back)\n",
        "x_test_dn , y_test_dn = get_data(test_dn,look_back)\n",
        "print(x_test.shape)\n",
        "print(y_test.shape)\n",
        "print(x_test_dn.shape)\n",
        "print(y_test_dn.shape)"
      ]
    },
    {
      "cell_type": "code",
      "execution_count": 24,
      "metadata": {
        "execution": {
          "iopub.execute_input": "2020-09-02T12:41:20.775916Z",
          "iopub.status.busy": "2020-09-02T12:41:20.775026Z",
          "iopub.status.idle": "2020-09-02T12:41:20.777465Z",
          "shell.execute_reply": "2020-09-02T12:41:20.776678Z"
        },
        "id": "OzM72hLXQ8oS",
        "papermill": {
          "duration": 0.029037,
          "end_time": "2020-09-02T12:41:20.777601",
          "exception": false,
          "start_time": "2020-09-02T12:41:20.748564",
          "status": "completed"
        },
        "tags": []
      },
      "outputs": [],
      "source": [
        "#Processing train and test sets for LSTM model\n",
        "x_train = x_train.reshape(x_train.shape[0],x_train.shape[1], 1)\n",
        "x_test = x_test.reshape(x_test.shape[0],x_test.shape[1], 1)\n",
        "x_train_dn = x_train_dn.reshape(x_train_dn.shape[0],x_train_dn.shape[1], 1)\n",
        "x_test_dn = x_test_dn.reshape(x_test_dn.shape[0],x_test_dn.shape[1], 1)"
      ]
    },
    {
      "cell_type": "code",
      "execution_count": 25,
      "metadata": {
        "execution": {
          "iopub.execute_input": "2020-09-02T12:41:20.824611Z",
          "iopub.status.busy": "2020-09-02T12:41:20.823745Z",
          "iopub.status.idle": "2020-09-02T12:41:20.827942Z",
          "shell.execute_reply": "2020-09-02T12:41:20.825315Z"
        },
        "id": "G-B3ojD_Q_9r",
        "outputId": "633b5780-04cb-48a7-d1fa-4fcbae524820",
        "papermill": {
          "duration": 0.031525,
          "end_time": "2020-09-02T12:41:20.828193",
          "exception": false,
          "start_time": "2020-09-02T12:41:20.796668",
          "status": "completed"
        },
        "tags": [],
        "colab": {
          "base_uri": "https://localhost:8080/"
        }
      },
      "outputs": [
        {
          "output_type": "stream",
          "name": "stdout",
          "text": [
            "(4798, 1, 1)\n",
            "(415, 1, 1)\n",
            "(4798, 1, 1)\n",
            "(415, 1, 1)\n"
          ]
        }
      ],
      "source": [
        "print(x_train.shape)\n",
        "print(x_test.shape)\n",
        "print(x_train_dn.shape)\n",
        "print(x_test_dn.shape)"
      ]
    },
    {
      "cell_type": "code",
      "execution_count": 26,
      "metadata": {
        "execution": {
          "iopub.execute_input": "2020-09-02T12:41:20.889651Z",
          "iopub.status.busy": "2020-09-02T12:41:20.888630Z",
          "iopub.status.idle": "2020-09-02T12:41:20.891323Z",
          "shell.execute_reply": "2020-09-02T12:41:20.890543Z"
        },
        "id": "CwlLkaaWUnG3",
        "papermill": {
          "duration": 0.032381,
          "end_time": "2020-09-02T12:41:20.891494",
          "exception": false,
          "start_time": "2020-09-02T12:41:20.859113",
          "status": "completed"
        },
        "tags": []
      },
      "outputs": [],
      "source": [
        "#Defining the LSTM model\n",
        "from keras.models import Sequential\n",
        "from keras.layers import Dense,LSTM\n"
      ]
    },
    {
      "cell_type": "code",
      "execution_count": 27,
      "metadata": {
        "execution": {
          "iopub.execute_input": "2020-09-02T12:41:20.940960Z",
          "iopub.status.busy": "2020-09-02T12:41:20.936744Z",
          "iopub.status.idle": "2020-09-02T12:41:23.664164Z",
          "shell.execute_reply": "2020-09-02T12:41:23.663183Z"
        },
        "id": "ADqH_jV4RE1C",
        "papermill": {
          "duration": 2.752605,
          "end_time": "2020-09-02T12:41:23.664292",
          "exception": false,
          "start_time": "2020-09-02T12:41:20.911687",
          "status": "completed"
        },
        "tags": [],
        "colab": {
          "base_uri": "https://localhost:8080/"
        },
        "outputId": "a3f5c339-9c24-4a22-8550-94c7883451ba"
      },
      "outputs": [
        {
          "output_type": "stream",
          "name": "stderr",
          "text": [
            "WARNING:tensorflow:Layer lstm will not use cuDNN kernels since it doesn't meet the criteria. It will use a generic GPU kernel as fallback when running on GPU.\n",
            "WARNING:tensorflow:Layer lstm_1 will not use cuDNN kernels since it doesn't meet the criteria. It will use a generic GPU kernel as fallback when running on GPU.\n"
          ]
        }
      ],
      "source": [
        "n_features = x_train.shape[1]\n",
        "model=Sequential()\n",
        "model.add(LSTM(100,activation='relu',input_shape=(1,1)))\n",
        "model.add(Dense(n_features))\n",
        "n_features_dn = x_train_dn.shape[1]\n",
        "model_dn = Sequential()\n",
        "model_dn.add(LSTM(100,activation='relu',input_shape=(1,1)))\n",
        "model_dn.add(Dense(n_features_dn))"
      ]
    },
    {
      "cell_type": "code",
      "execution_count": 28,
      "metadata": {
        "execution": {
          "iopub.execute_input": "2020-09-02T12:41:23.700246Z",
          "iopub.status.busy": "2020-09-02T12:41:23.699488Z",
          "iopub.status.idle": "2020-09-02T12:41:23.702705Z",
          "shell.execute_reply": "2020-09-02T12:41:23.700830Z"
        },
        "id": "lbd3pItfnhRU",
        "outputId": "00e354e4-78d1-41e9-88e2-b63a9a6bb9d5",
        "papermill": {
          "duration": 0.025014,
          "end_time": "2020-09-02T12:41:23.702809",
          "exception": false,
          "start_time": "2020-09-02T12:41:23.677795",
          "status": "completed"
        },
        "tags": [],
        "colab": {
          "base_uri": "https://localhost:8080/"
        }
      },
      "outputs": [
        {
          "output_type": "stream",
          "name": "stdout",
          "text": [
            "Model: \"sequential\"\n",
            "_________________________________________________________________\n",
            " Layer (type)                Output Shape              Param #   \n",
            "=================================================================\n",
            " lstm (LSTM)                 (None, 100)               40800     \n",
            "                                                                 \n",
            " dense (Dense)               (None, 1)                 101       \n",
            "                                                                 \n",
            "=================================================================\n",
            "Total params: 40901 (159.77 KB)\n",
            "Trainable params: 40901 (159.77 KB)\n",
            "Non-trainable params: 0 (0.00 Byte)\n",
            "_________________________________________________________________\n",
            "Model: \"sequential_1\"\n",
            "_________________________________________________________________\n",
            " Layer (type)                Output Shape              Param #   \n",
            "=================================================================\n",
            " lstm_1 (LSTM)               (None, 100)               40800     \n",
            "                                                                 \n",
            " dense_1 (Dense)             (None, 1)                 101       \n",
            "                                                                 \n",
            "=================================================================\n",
            "Total params: 40901 (159.77 KB)\n",
            "Trainable params: 40901 (159.77 KB)\n",
            "Non-trainable params: 0 (0.00 Byte)\n",
            "_________________________________________________________________\n"
          ]
        }
      ],
      "source": [
        "model.summary()\n",
        "model_dn.summary()"
      ]
    },
    {
      "cell_type": "code",
      "execution_count": 29,
      "metadata": {
        "execution": {
          "iopub.execute_input": "2020-09-02T12:41:23.738922Z",
          "iopub.status.busy": "2020-09-02T12:41:23.736983Z",
          "iopub.status.idle": "2020-09-02T12:41:23.745030Z",
          "shell.execute_reply": "2020-09-02T12:41:23.745611Z"
        },
        "id": "UtqjJA0wRHPq",
        "papermill": {
          "duration": 0.030126,
          "end_time": "2020-09-02T12:41:23.745779",
          "exception": false,
          "start_time": "2020-09-02T12:41:23.715653",
          "status": "completed"
        },
        "tags": []
      },
      "outputs": [],
      "source": [
        "#Compiling\n",
        "model.compile(optimizer='adam', loss = 'mse')\n",
        "model_dn.compile(optimizer='adam', loss = 'mse')"
      ]
    },
    {
      "cell_type": "code",
      "execution_count": 30,
      "metadata": {
        "execution": {
          "iopub.execute_input": "2020-09-02T12:41:23.775720Z",
          "iopub.status.busy": "2020-09-02T12:41:23.775115Z",
          "iopub.status.idle": "2020-09-02T12:42:16.970655Z",
          "shell.execute_reply": "2020-09-02T12:42:16.970038Z"
        },
        "id": "rQmkEljuRJ5K",
        "outputId": "e497dd15-c76b-40f6-8b75-a563e5b1a379",
        "papermill": {
          "duration": 53.212055,
          "end_time": "2020-09-02T12:42:16.970771",
          "exception": false,
          "start_time": "2020-09-02T12:41:23.758716",
          "status": "completed"
        },
        "tags": [],
        "colab": {
          "base_uri": "https://localhost:8080/"
        }
      },
      "outputs": [
        {
          "output_type": "stream",
          "name": "stdout",
          "text": [
            "Epoch 1/5\n",
            "4798/4798 [==============================] - 14s 2ms/step - loss: 0.0056\n",
            "Epoch 2/5\n",
            "4798/4798 [==============================] - 11s 2ms/step - loss: 1.3151e-04\n",
            "Epoch 3/5\n",
            "4798/4798 [==============================] - 11s 2ms/step - loss: 1.2785e-04\n",
            "Epoch 4/5\n",
            "4798/4798 [==============================] - 11s 2ms/step - loss: 1.2807e-04\n",
            "Epoch 5/5\n",
            "4798/4798 [==============================] - 11s 2ms/step - loss: 1.2936e-04\n",
            "Epoch 1/5\n",
            "4798/4798 [==============================] - 13s 2ms/step - loss: 0.0062\n",
            "Epoch 2/5\n",
            "4798/4798 [==============================] - 12s 2ms/step - loss: 6.2753e-05\n",
            "Epoch 3/5\n",
            "4798/4798 [==============================] - 12s 2ms/step - loss: 5.3851e-05\n",
            "Epoch 4/5\n",
            "4798/4798 [==============================] - 11s 2ms/step - loss: 5.3992e-05\n",
            "Epoch 5/5\n",
            "4798/4798 [==============================] - 11s 2ms/step - loss: 5.4270e-05\n"
          ]
        },
        {
          "output_type": "execute_result",
          "data": {
            "text/plain": [
              "<keras.src.callbacks.History at 0x7ef77bb6eb00>"
            ]
          },
          "metadata": {},
          "execution_count": 30
        }
      ],
      "source": [
        "#Training\n",
        "model.fit(x_train,y_train, epochs = 5, batch_size=1)\n",
        "model_dn.fit(x_train_dn,y_train_dn, epochs = 5, batch_size=1)"
      ]
    },
    {
      "cell_type": "code",
      "execution_count": 31,
      "metadata": {
        "execution": {
          "iopub.execute_input": "2020-09-02T12:42:17.117132Z",
          "iopub.status.busy": "2020-09-02T12:42:17.116335Z",
          "iopub.status.idle": "2020-09-02T12:42:17.120038Z",
          "shell.execute_reply": "2020-09-02T12:42:17.120522Z"
        },
        "id": "W0NpJaSLRNuR",
        "papermill": {
          "duration": 0.079125,
          "end_time": "2020-09-02T12:42:17.120650",
          "exception": false,
          "start_time": "2020-09-02T12:42:17.041525",
          "status": "completed"
        },
        "tags": [],
        "colab": {
          "base_uri": "https://localhost:8080/"
        },
        "outputId": "ca61b670-95e8-4c28-c3d2-6c561c250397"
      },
      "outputs": [
        {
          "output_type": "execute_result",
          "data": {
            "text/plain": [
              "array([1.4664774])"
            ]
          },
          "metadata": {},
          "execution_count": 31
        }
      ],
      "source": [
        "#Prediction using the trained model\n",
        "scaler.scale_\n",
        "scaler_dn.scale_"
      ]
    },
    {
      "cell_type": "code",
      "execution_count": 32,
      "metadata": {
        "execution": {
          "iopub.execute_input": "2020-09-02T12:42:17.264550Z",
          "iopub.status.busy": "2020-09-02T12:42:17.263695Z",
          "iopub.status.idle": "2020-09-02T12:42:17.480587Z",
          "shell.execute_reply": "2020-09-02T12:42:17.481330Z"
        },
        "id": "onJFn6KyRQfa",
        "papermill": {
          "duration": 0.291396,
          "end_time": "2020-09-02T12:42:17.481550",
          "exception": false,
          "start_time": "2020-09-02T12:42:17.190154",
          "status": "completed"
        },
        "tags": [],
        "colab": {
          "base_uri": "https://localhost:8080/"
        },
        "outputId": "607a1c26-a71d-4094-b606-ec761e7df7e6"
      },
      "outputs": [
        {
          "output_type": "stream",
          "name": "stdout",
          "text": [
            "13/13 [==============================] - 0s 2ms/step\n",
            "[[1.2941558]\n",
            " [1.2968354]\n",
            " [1.2788239]\n",
            " [1.291282 ]\n",
            " [1.2891396]\n",
            " [1.2866082]\n",
            " [1.2949839]\n",
            " [1.2851481]\n",
            " [1.2930354]\n",
            " [1.2899187]]\n",
            "13/13 [==============================] - 0s 2ms/step\n",
            "[[1.3001984]\n",
            " [1.3034097]\n",
            " [1.2990334]\n",
            " [1.2966902]\n",
            " [1.29638  ]\n",
            " [1.2955251]\n",
            " [1.2971259]\n",
            " [1.298069 ]\n",
            " [1.2983538]\n",
            " [1.2988149]]\n"
          ]
        }
      ],
      "source": [
        "y_pred = model.predict(x_test)\n",
        "y_pred = scaler.inverse_transform(y_pred)\n",
        "print(y_pred[:10])\n",
        "y_pred_dn = model_dn.predict(x_test_dn)\n",
        "y_pred_dn = scaler_dn.inverse_transform(y_pred_dn)\n",
        "print(y_pred_dn[:10])"
      ]
    },
    {
      "cell_type": "code",
      "execution_count": 33,
      "metadata": {
        "execution": {
          "iopub.execute_input": "2020-09-02T12:42:17.634885Z",
          "iopub.status.busy": "2020-09-02T12:42:17.633974Z",
          "iopub.status.idle": "2020-09-02T12:42:17.640668Z",
          "shell.execute_reply": "2020-09-02T12:42:17.640163Z"
        },
        "id": "eyfbYKohRUVB",
        "papermill": {
          "duration": 0.081659,
          "end_time": "2020-09-02T12:42:17.640777",
          "exception": false,
          "start_time": "2020-09-02T12:42:17.559118",
          "status": "completed"
        },
        "tags": [],
        "colab": {
          "base_uri": "https://localhost:8080/"
        },
        "outputId": "f6c3f825-a0c6-49b3-e5d9-f82bd63744c5"
      },
      "outputs": [
        {
          "output_type": "stream",
          "name": "stdout",
          "text": [
            "[[1.3027]\n",
            " [1.2842]\n",
            " [1.297 ]\n",
            " [1.2948]\n",
            " [1.2922]\n",
            " [1.3008]\n",
            " [1.2907]\n",
            " [1.2988]\n",
            " [1.2956]\n",
            " [1.298 ]]\n",
            "[[1.30073409]\n",
            " [1.29637235]\n",
            " [1.29403691]\n",
            " [1.29372779]\n",
            " [1.29287571]\n",
            " [1.29447132]\n",
            " [1.29541108]\n",
            " [1.29569498]\n",
            " [1.29615462]\n",
            " [1.29862985]]\n"
          ]
        }
      ],
      "source": [
        "#Processing test shape\n",
        "y_test = np.array(y_test).reshape(-1,1)\n",
        "y_test = scaler.inverse_transform(y_test)\n",
        "print(y_test[:10])\n",
        "y_test_dn = np.array(y_test_dn).reshape(-1,1)\n",
        "y_test_dn = scaler_dn.inverse_transform(y_test_dn)\n",
        "print(y_test_dn[:10])"
      ]
    },
    {
      "cell_type": "code",
      "execution_count": 34,
      "metadata": {
        "execution": {
          "iopub.execute_input": "2020-09-02T12:42:17.854150Z",
          "iopub.status.busy": "2020-09-02T12:42:17.853170Z",
          "iopub.status.idle": "2020-09-02T12:42:18.036742Z",
          "shell.execute_reply": "2020-09-02T12:42:18.035799Z"
        },
        "id": "Ly_SbnZ3RZxS",
        "papermill": {
          "duration": 0.321387,
          "end_time": "2020-09-02T12:42:18.036867",
          "exception": false,
          "start_time": "2020-09-02T12:42:17.715480",
          "status": "completed"
        },
        "tags": [],
        "colab": {
          "base_uri": "https://localhost:8080/",
          "height": 520
        },
        "outputId": "c5b77c19-5672-48ce-f336-ab575069d73b"
      },
      "outputs": [
        {
          "output_type": "display_data",
          "data": {
            "text/plain": [
              "<Figure size 1000x500 with 1 Axes>"
            ],
            "image/png": "[encoded data removed]"
          },
          "metadata": {}
        }
      ],
      "source": [
        "#Visualizing the results\n",
        "date_range = pd.date_range(start=data_set_plot['Time Serie'][4800], periods=len(y_test), freq='D')\n",
        "\n",
        "plt.figure(figsize=(10, 5))\n",
        "plt.title('Foreign Exchange Rate of Canada (Without Wavelet Transform)')\n",
        "plt.plot(date_range, y_test, label='Actual', color='g')\n",
        "plt.plot(date_range, y_pred, label='Predicted', color='r')\n",
        "\n",
        "# Rotate the dates on x-axis for better visibility\n",
        "plt.xticks(rotation=45)\n",
        "\n",
        "plt.gca().xaxis.set_major_formatter(plt.matplotlib.dates.DateFormatter('%Y-%m-%d'))\n",
        "\n",
        "plt.legend()\n",
        "plt.show()"
      ]
    },
    {
      "cell_type": "code",
      "source": [
        "#Visualizing the results\n",
        "date_range = pd.date_range(start=data_set_plot['Time Serie'][4800], periods=len(y_test), freq='D')\n",
        "\n",
        "plt.figure(figsize=(10, 5))\n",
        "plt.title('Foreign Exchange Rate of Canada (With Wavelet Transform)')\n",
        "plt.plot(date_range, y_test, label='Actual', color='g')\n",
        "plt.plot(date_range, y_pred_dn, label='Predicted', color='r')\n",
        "\n",
        "# Rotate the dates on x-axis for better visibility\n",
        "plt.xticks(rotation=45)\n",
        "\n",
        "plt.gca().xaxis.set_major_formatter(plt.matplotlib.dates.DateFormatter('%Y-%m-%d'))\n",
        "\n",
        "plt.legend()\n",
        "plt.show()"
      ],
      "metadata": {
        "colab": {
          "base_uri": "https://localhost:8080/",
          "height": 520
        },
        "id": "w6viY1w4MT82",
        "outputId": "8057515e-ba07-4a6f-d70b-cac75ce280eb"
      },
      "execution_count": 35,
      "outputs": [
        {
          "output_type": "display_data",
          "data": {
            "text/plain": [
              "<Figure size 1000x500 with 1 Axes>"
            ],
            "image/png": "[encoded data removed]"
          },
          "metadata": {}
        }
      ]
    },
    {
      "cell_type": "code",
      "execution_count": 36,
      "metadata": {
        "execution": {
          "iopub.execute_input": "2020-09-02T12:42:18.183407Z",
          "iopub.status.busy": "2020-09-02T12:42:18.182582Z",
          "iopub.status.idle": "2020-09-02T12:42:18.228475Z",
          "shell.execute_reply": "2020-09-02T12:42:18.229058Z"
        },
        "id": "mM6fn5-CokFc",
        "papermill": {
          "duration": 0.120161,
          "end_time": "2020-09-02T12:42:18.229208",
          "exception": false,
          "start_time": "2020-09-02T12:42:18.109047",
          "status": "completed"
        },
        "tags": [],
        "colab": {
          "base_uri": "https://localhost:8080/"
        },
        "outputId": "b9edf87e-0669-4642-e284-a4ee3bf50168"
      },
      "outputs": [
        {
          "output_type": "stream",
          "name": "stdout",
          "text": [
            "MSE for LSTM without Wavelet Transform:\n",
            "5.980701870462418e-05\n",
            "Relative MSE for LSTM without Wavelet Transform: 0.2477068888221327\n"
          ]
        }
      ],
      "source": [
        "from sklearn.metrics import mean_squared_error\n",
        "print(\"MSE for LSTM without Wavelet Transform:\")\n",
        "mse = mean_squared_error(y_test, y_pred)\n",
        "print(mse)\n",
        "variance_y = np.var(y_test)\n",
        "relative_mse = mse / variance_y\n",
        "print(\"Relative MSE for LSTM without Wavelet Transform:\", relative_mse)\n"
      ]
    },
    {
      "cell_type": "code",
      "source": [
        "print(\"MSE for LSTM with Wavelet Transform:\")\n",
        "mse_dn = mean_squared_error(y_test, y_pred_dn)\n",
        "print(mse_dn)\n",
        "variance_y = np.var(y_test)\n",
        "relative_mse_dn = mse_dn / variance_y\n",
        "print(\"Relative MSE for LSTM without Wavelet Transform:\", relative_mse_dn)"
      ],
      "metadata": {
        "id": "agkIotrhb-4P",
        "colab": {
          "base_uri": "https://localhost:8080/"
        },
        "outputId": "c2617ad3-27a7-4143-bde7-d5697beab9b5"
      },
      "execution_count": 37,
      "outputs": [
        {
          "output_type": "stream",
          "name": "stdout",
          "text": [
            "MSE for LSTM with Wavelet Transform:\n",
            "2.3531084607891723e-05\n",
            "Relative MSE for LSTM without Wavelet Transform: 0.09746032965827403\n"
          ]
        }
      ]
    },
    {
      "cell_type": "code",
      "source": [],
      "metadata": {
        "id": "Momj0s41W0rn"
      },
      "execution_count": 37,
      "outputs": []
    }
  ],
  "metadata": {
    "kernelspec": {
      "display_name": "Python 3",
      "name": "python3"
    },
    "language_info": {
      "codemirror_mode": {
        "name": "ipython",
        "version": 3
      },
      "file_extension": ".py",
      "mimetype": "text/x-python",
      "name": "python",
      "nbconvert_exporter": "python",
      "pygments_lexer": "ipython3",
      "version": "3.7.6"
    },
    "papermill": {
      "duration": 69.860802,
      "end_time": "2020-09-02T12:42:19.556096",
      "environment_variables": {},
      "exception": null,
      "input_path": "__notebook__.ipynb",
      "output_path": "__notebook__.ipynb",
      "parameters": {},
      "start_time": "2020-09-02T12:41:09.695294",
      "version": "2.1.0"
    },
    "colab": {
      "provenance": [],
      "machine_shape": "hm",
      "gpuType": "T4"
    },
    "accelerator": "GPU"
  },
  "nbformat": 4,
  "nbformat_minor": 0
}
