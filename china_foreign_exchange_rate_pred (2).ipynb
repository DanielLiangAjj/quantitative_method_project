{
  "cells": [
    {
      "cell_type": "markdown",
      "metadata": {
        "papermill": {
          "duration": 0.011369,
          "end_time": "2020-09-02T12:41:13.819151",
          "exception": false,
          "start_time": "2020-09-02T12:41:13.807782",
          "status": "completed"
        },
        "tags": [],
        "id": "OunkkeMKxCuc"
      },
      "source": [
        "# Foreign Exchange Rate Prediction using LSTM Recurrent Neural Network"
      ]
    },
    {
      "cell_type": "code",
      "execution_count": 3,
      "metadata": {
        "execution": {
          "iopub.execute_input": "2020-09-02T12:41:13.868270Z",
          "iopub.status.busy": "2020-09-02T12:41:13.867678Z",
          "iopub.status.idle": "2020-09-02T12:41:19.065002Z",
          "shell.execute_reply": "2020-09-02T12:41:19.063937Z"
        },
        "id": "CGpgBRToPdB0",
        "papermill": {
          "duration": 5.214644,
          "end_time": "2020-09-02T12:41:19.065121",
          "exception": false,
          "start_time": "2020-09-02T12:41:13.850477",
          "status": "completed"
        },
        "tags": []
      },
      "outputs": [],
      "source": [
        "#Importing Linraries\n",
        "import pandas as pd\n",
        "import numpy as np\n",
        "import matplotlib.pyplot as plt\n",
        "%matplotlib inline\n",
        "import tensorflow as tf\n",
        "import keras"
      ]
    },
    {
      "cell_type": "code",
      "execution_count": 4,
      "metadata": {
        "execution": {
          "iopub.execute_input": "2020-09-02T12:41:19.095112Z",
          "iopub.status.busy": "2020-09-02T12:41:19.094273Z",
          "iopub.status.idle": "2020-09-02T12:41:19.126587Z",
          "shell.execute_reply": "2020-09-02T12:41:19.126010Z"
        },
        "id": "B7raJ8yrPqBY",
        "papermill": {
          "duration": 0.050671,
          "end_time": "2020-09-02T12:41:19.126688",
          "exception": false,
          "start_time": "2020-09-02T12:41:19.076017",
          "status": "completed"
        },
        "tags": []
      },
      "outputs": [],
      "source": [
        "#Reading dataset\n",
        "data_set = pd.read_csv('sample_data/Foreign_Exchange_Rates.csv', na_values='ND')"
      ]
    },
    {
      "cell_type": "code",
      "execution_count": 5,
      "metadata": {
        "execution": {
          "iopub.execute_input": "2020-09-02T12:41:19.153149Z",
          "iopub.status.busy": "2020-09-02T12:41:19.152250Z",
          "iopub.status.idle": "2020-09-02T12:41:19.155972Z",
          "shell.execute_reply": "2020-09-02T12:41:19.156573Z"
        },
        "id": "CdWShU4LCWts",
        "outputId": "58bbe255-45db-4794-862c-fcb705b05878",
        "papermill": {
          "duration": 0.019573,
          "end_time": "2020-09-02T12:41:19.156682",
          "exception": false,
          "start_time": "2020-09-02T12:41:19.137109",
          "status": "completed"
        },
        "tags": [],
        "colab": {
          "base_uri": "https://localhost:8080/"
        }
      },
      "outputs": [
        {
          "output_type": "execute_result",
          "data": {
            "text/plain": [
              "(5217, 24)"
            ]
          },
          "metadata": {},
          "execution_count": 5
        }
      ],
      "source": [
        "data_set.shape"
      ]
    },
    {
      "cell_type": "code",
      "execution_count": 6,
      "metadata": {
        "execution": {
          "iopub.execute_input": "2020-09-02T12:41:19.201184Z",
          "iopub.status.busy": "2020-09-02T12:41:19.196475Z",
          "iopub.status.idle": "2020-09-02T12:41:19.216498Z",
          "shell.execute_reply": "2020-09-02T12:41:19.216972Z"
        },
        "id": "cw-YlY_APvPT",
        "outputId": "861892a2-a9b0-4524-b327-99f92b39c23e",
        "papermill": {
          "duration": 0.049822,
          "end_time": "2020-09-02T12:41:19.217095",
          "exception": false,
          "start_time": "2020-09-02T12:41:19.167273",
          "status": "completed"
        },
        "tags": [],
        "colab": {
          "base_uri": "https://localhost:8080/",
          "height": 412
        }
      },
      "outputs": [
        {
          "output_type": "execute_result",
          "data": {
            "text/plain": [
              "   Unnamed: 0  Time Serie  AUSTRALIA - AUSTRALIAN DOLLAR/US$  \\\n",
              "0           0  2000-01-03                             1.5172   \n",
              "1           1  2000-01-04                             1.5239   \n",
              "2           2  2000-01-05                             1.5267   \n",
              "3           3  2000-01-06                             1.5291   \n",
              "4           4  2000-01-07                             1.5272   \n",
              "\n",
              "   EURO AREA - EURO/US$  NEW ZEALAND - NEW ZELAND DOLLAR/US$  \\\n",
              "0                0.9847                               1.9033   \n",
              "1                0.9700                               1.9238   \n",
              "2                0.9676                               1.9339   \n",
              "3                0.9686                               1.9436   \n",
              "4                0.9714                               1.9380   \n",
              "\n",
              "   UNITED KINGDOM - UNITED KINGDOM POUND/US$  BRAZIL - REAL/US$  \\\n",
              "0                                     0.6146             1.8050   \n",
              "1                                     0.6109             1.8405   \n",
              "2                                     0.6092             1.8560   \n",
              "3                                     0.6070             1.8400   \n",
              "4                                     0.6104             1.8310   \n",
              "\n",
              "   CANADA - CANADIAN DOLLAR/US$  CHINA - YUAN/US$  \\\n",
              "0                        1.4465            8.2798   \n",
              "1                        1.4518            8.2799   \n",
              "2                        1.4518            8.2798   \n",
              "3                        1.4571            8.2797   \n",
              "4                        1.4505            8.2794   \n",
              "\n",
              "   HONG KONG - HONG KONG DOLLAR/US$  ...  SINGAPORE - SINGAPORE DOLLAR/US$  \\\n",
              "0                            7.7765  ...                            1.6563   \n",
              "1                            7.7775  ...                            1.6535   \n",
              "2                            7.7780  ...                            1.6560   \n",
              "3                            7.7785  ...                            1.6655   \n",
              "4                            7.7783  ...                            1.6625   \n",
              "\n",
              "   DENMARK - DANISH KRONE/US$  JAPAN - YEN/US$  MALAYSIA - RINGGIT/US$  \\\n",
              "0                      7.3290           101.70                     3.8   \n",
              "1                      7.2180           103.09                     3.8   \n",
              "2                      7.2080           103.77                     3.8   \n",
              "3                      7.2125           105.19                     3.8   \n",
              "4                      7.2285           105.17                     3.8   \n",
              "\n",
              "   NORWAY - NORWEGIAN KRONE/US$  SWEDEN - KRONA/US$  \\\n",
              "0                         7.964              8.4430   \n",
              "1                         7.934              8.3600   \n",
              "2                         7.935              8.3530   \n",
              "3                         7.940              8.3675   \n",
              "4                         7.966              8.4150   \n",
              "\n",
              "   SRI LANKA - SRI LANKAN RUPEE/US$  SWITZERLAND - FRANC/US$  \\\n",
              "0                             72.30                   1.5808   \n",
              "1                             72.65                   1.5565   \n",
              "2                             72.95                   1.5526   \n",
              "3                             72.95                   1.5540   \n",
              "4                             73.15                   1.5623   \n",
              "\n",
              "   TAIWAN - NEW TAIWAN DOLLAR/US$  THAILAND - BAHT/US$  \n",
              "0                           31.38                36.97  \n",
              "1                           30.60                37.13  \n",
              "2                           30.80                37.10  \n",
              "3                           31.75                37.62  \n",
              "4                           30.85                37.30  \n",
              "\n",
              "[5 rows x 24 columns]"
            ],
            "text/html": [
              "\n",
              "  <div id=\"df-8cef1759-ee2f-4f0a-bb46-2b6e5e376c76\" class=\"colab-df-container\">\n",
              "    <div>\n",
              "<style scoped>\n",
              "    .dataframe tbody tr th:only-of-type {\n",
              "        vertical-align: middle;\n",
              "    }\n",
              "\n",
              "    .dataframe tbody tr th {\n",
              "        vertical-align: top;\n",
              "    }\n",
              "\n",
              "    .dataframe thead th {\n",
              "        text-align: right;\n",
              "    }\n",
              "</style>\n",
              "<table border=\"1\" class=\"dataframe\">\n",
              "  <thead>\n",
              "    <tr style=\"text-align: right;\">\n",
              "      <th></th>\n",
              "      <th>Unnamed: 0</th>\n",
              "      <th>Time Serie</th>\n",
              "      <th>AUSTRALIA - AUSTRALIAN DOLLAR/US$</th>\n",
              "      <th>EURO AREA - EURO/US$</th>\n",
              "      <th>NEW ZEALAND - NEW ZELAND DOLLAR/US$</th>\n",
              "      <th>UNITED KINGDOM - UNITED KINGDOM POUND/US$</th>\n",
              "      <th>BRAZIL - REAL/US$</th>\n",
              "      <th>CANADA - CANADIAN DOLLAR/US$</th>\n",
              "      <th>CHINA - YUAN/US$</th>\n",
              "      <th>HONG KONG - HONG KONG DOLLAR/US$</th>\n",
              "      <th>...</th>\n",
              "      <th>SINGAPORE - SINGAPORE DOLLAR/US$</th>\n",
              "      <th>DENMARK - DANISH KRONE/US$</th>\n",
              "      <th>JAPAN - YEN/US$</th>\n",
              "      <th>MALAYSIA - RINGGIT/US$</th>\n",
              "      <th>NORWAY - NORWEGIAN KRONE/US$</th>\n",
              "      <th>SWEDEN - KRONA/US$</th>\n",
              "      <th>SRI LANKA - SRI LANKAN RUPEE/US$</th>\n",
              "      <th>SWITZERLAND - FRANC/US$</th>\n",
              "      <th>TAIWAN - NEW TAIWAN DOLLAR/US$</th>\n",
              "      <th>THAILAND - BAHT/US$</th>\n",
              "    </tr>\n",
              "  </thead>\n",
              "  <tbody>\n",
              "    <tr>\n",
              "      <th>0</th>\n",
              "      <td>0</td>\n",
              "      <td>2000-01-03</td>\n",
              "      <td>1.5172</td>\n",
              "      <td>0.9847</td>\n",
              "      <td>1.9033</td>\n",
              "      <td>0.6146</td>\n",
              "      <td>1.8050</td>\n",
              "      <td>1.4465</td>\n",
              "      <td>8.2798</td>\n",
              "      <td>7.7765</td>\n",
              "      <td>...</td>\n",
              "      <td>1.6563</td>\n",
              "      <td>7.3290</td>\n",
              "      <td>101.70</td>\n",
              "      <td>3.8</td>\n",
              "      <td>7.964</td>\n",
              "      <td>8.4430</td>\n",
              "      <td>72.30</td>\n",
              "      <td>1.5808</td>\n",
              "      <td>31.38</td>\n",
              "      <td>36.97</td>\n",
              "    </tr>\n",
              "    <tr>\n",
              "      <th>1</th>\n",
              "      <td>1</td>\n",
              "      <td>2000-01-04</td>\n",
              "      <td>1.5239</td>\n",
              "      <td>0.9700</td>\n",
              "      <td>1.9238</td>\n",
              "      <td>0.6109</td>\n",
              "      <td>1.8405</td>\n",
              "      <td>1.4518</td>\n",
              "      <td>8.2799</td>\n",
              "      <td>7.7775</td>\n",
              "      <td>...</td>\n",
              "      <td>1.6535</td>\n",
              "      <td>7.2180</td>\n",
              "      <td>103.09</td>\n",
              "      <td>3.8</td>\n",
              "      <td>7.934</td>\n",
              "      <td>8.3600</td>\n",
              "      <td>72.65</td>\n",
              "      <td>1.5565</td>\n",
              "      <td>30.60</td>\n",
              "      <td>37.13</td>\n",
              "    </tr>\n",
              "    <tr>\n",
              "      <th>2</th>\n",
              "      <td>2</td>\n",
              "      <td>2000-01-05</td>\n",
              "      <td>1.5267</td>\n",
              "      <td>0.9676</td>\n",
              "      <td>1.9339</td>\n",
              "      <td>0.6092</td>\n",
              "      <td>1.8560</td>\n",
              "      <td>1.4518</td>\n",
              "      <td>8.2798</td>\n",
              "      <td>7.7780</td>\n",
              "      <td>...</td>\n",
              "      <td>1.6560</td>\n",
              "      <td>7.2080</td>\n",
              "      <td>103.77</td>\n",
              "      <td>3.8</td>\n",
              "      <td>7.935</td>\n",
              "      <td>8.3530</td>\n",
              "      <td>72.95</td>\n",
              "      <td>1.5526</td>\n",
              "      <td>30.80</td>\n",
              "      <td>37.10</td>\n",
              "    </tr>\n",
              "    <tr>\n",
              "      <th>3</th>\n",
              "      <td>3</td>\n",
              "      <td>2000-01-06</td>\n",
              "      <td>1.5291</td>\n",
              "      <td>0.9686</td>\n",
              "      <td>1.9436</td>\n",
              "      <td>0.6070</td>\n",
              "      <td>1.8400</td>\n",
              "      <td>1.4571</td>\n",
              "      <td>8.2797</td>\n",
              "      <td>7.7785</td>\n",
              "      <td>...</td>\n",
              "      <td>1.6655</td>\n",
              "      <td>7.2125</td>\n",
              "      <td>105.19</td>\n",
              "      <td>3.8</td>\n",
              "      <td>7.940</td>\n",
              "      <td>8.3675</td>\n",
              "      <td>72.95</td>\n",
              "      <td>1.5540</td>\n",
              "      <td>31.75</td>\n",
              "      <td>37.62</td>\n",
              "    </tr>\n",
              "    <tr>\n",
              "      <th>4</th>\n",
              "      <td>4</td>\n",
              "      <td>2000-01-07</td>\n",
              "      <td>1.5272</td>\n",
              "      <td>0.9714</td>\n",
              "      <td>1.9380</td>\n",
              "      <td>0.6104</td>\n",
              "      <td>1.8310</td>\n",
              "      <td>1.4505</td>\n",
              "      <td>8.2794</td>\n",
              "      <td>7.7783</td>\n",
              "      <td>...</td>\n",
              "      <td>1.6625</td>\n",
              "      <td>7.2285</td>\n",
              "      <td>105.17</td>\n",
              "      <td>3.8</td>\n",
              "      <td>7.966</td>\n",
              "      <td>8.4150</td>\n",
              "      <td>73.15</td>\n",
              "      <td>1.5623</td>\n",
              "      <td>30.85</td>\n",
              "      <td>37.30</td>\n",
              "    </tr>\n",
              "  </tbody>\n",
              "</table>\n",
              "<p>5 rows × 24 columns</p>\n",
              "</div>\n",
              "    <div class=\"colab-df-buttons\">\n",
              "\n",
              "  <div class=\"colab-df-container\">\n",
              "    <button class=\"colab-df-convert\" onclick=\"convertToInteractive('df-8cef1759-ee2f-4f0a-bb46-2b6e5e376c76')\"\n",
              "            title=\"Convert this dataframe to an interactive table.\"\n",
              "            style=\"display:none;\">\n",
              "\n",
              "  <svg xmlns=\"http://www.w3.org/2000/svg\" height=\"24px\" viewBox=\"0 -960 960 960\">\n",
              "    <path d=\"M120-120v-720h720v720H120Zm60-500h600v-160H180v160Zm220 220h160v-160H400v160Zm0 220h160v-160H400v160ZM180-400h160v-160H180v160Zm440 0h160v-160H620v160ZM180-180h160v-160H180v160Zm440 0h160v-160H620v160Z\"/>\n",
              "  </svg>\n",
              "    </button>\n",
              "\n",
              "  <style>\n",
              "    .colab-df-container {\n",
              "      display:flex;\n",
              "      gap: 12px;\n",
              "    }\n",
              "\n",
              "    .colab-df-convert {\n",
              "      background-color: #E8F0FE;\n",
              "      border: none;\n",
              "      border-radius: 50%;\n",
              "      cursor: pointer;\n",
              "      display: none;\n",
              "      fill: #1967D2;\n",
              "      height: 32px;\n",
              "      padding: 0 0 0 0;\n",
              "      width: 32px;\n",
              "    }\n",
              "\n",
              "    .colab-df-convert:hover {\n",
              "      background-color: #E2EBFA;\n",
              "      box-shadow: 0px 1px 2px rgba(60, 64, 67, 0.3), 0px 1px 3px 1px rgba(60, 64, 67, 0.15);\n",
              "      fill: #174EA6;\n",
              "    }\n",
              "\n",
              "    .colab-df-buttons div {\n",
              "      margin-bottom: 4px;\n",
              "    }\n",
              "\n",
              "    [theme=dark] .colab-df-convert {\n",
              "      background-color: #3B4455;\n",
              "      fill: #D2E3FC;\n",
              "    }\n",
              "\n",
              "    [theme=dark] .colab-df-convert:hover {\n",
              "      background-color: #434B5C;\n",
              "      box-shadow: 0px 1px 3px 1px rgba(0, 0, 0, 0.15);\n",
              "      filter: drop-shadow(0px 1px 2px rgba(0, 0, 0, 0.3));\n",
              "      fill: #FFFFFF;\n",
              "    }\n",
              "  </style>\n",
              "\n",
              "    <script>\n",
              "      const buttonEl =\n",
              "        document.querySelector('#df-8cef1759-ee2f-4f0a-bb46-2b6e5e376c76 button.colab-df-convert');\n",
              "      buttonEl.style.display =\n",
              "        google.colab.kernel.accessAllowed ? 'block' : 'none';\n",
              "\n",
              "      async function convertToInteractive(key) {\n",
              "        const element = document.querySelector('#df-8cef1759-ee2f-4f0a-bb46-2b6e5e376c76');\n",
              "        const dataTable =\n",
              "          await google.colab.kernel.invokeFunction('convertToInteractive',\n",
              "                                                    [key], {});\n",
              "        if (!dataTable) return;\n",
              "\n",
              "        const docLinkHtml = 'Like what you see? Visit the ' +\n",
              "          '<a target=\"_blank\" href=https://colab.research.google.com/notebooks/data_table.ipynb>data table notebook</a>'\n",
              "          + ' to learn more about interactive tables.';\n",
              "        element.innerHTML = '';\n",
              "        dataTable['output_type'] = 'display_data';\n",
              "        await google.colab.output.renderOutput(dataTable, element);\n",
              "        const docLink = document.createElement('div');\n",
              "        docLink.innerHTML = docLinkHtml;\n",
              "        element.appendChild(docLink);\n",
              "      }\n",
              "    </script>\n",
              "  </div>\n",
              "\n",
              "\n",
              "<div id=\"df-4560261a-e586-40ae-b549-969ab851f6ca\">\n",
              "  <button class=\"colab-df-quickchart\" onclick=\"quickchart('df-4560261a-e586-40ae-b549-969ab851f6ca')\"\n",
              "            title=\"Suggest charts\"\n",
              "            style=\"display:none;\">\n",
              "\n",
              "<svg xmlns=\"http://www.w3.org/2000/svg\" height=\"24px\"viewBox=\"0 0 24 24\"\n",
              "     width=\"24px\">\n",
              "    <g>\n",
              "        <path d=\"M19 3H5c-1.1 0-2 .9-2 2v14c0 1.1.9 2 2 2h14c1.1 0 2-.9 2-2V5c0-1.1-.9-2-2-2zM9 17H7v-7h2v7zm4 0h-2V7h2v10zm4 0h-2v-4h2v4z\"/>\n",
              "    </g>\n",
              "</svg>\n",
              "  </button>\n",
              "\n",
              "<style>\n",
              "  .colab-df-quickchart {\n",
              "      --bg-color: #E8F0FE;\n",
              "      --fill-color: #1967D2;\n",
              "      --hover-bg-color: #E2EBFA;\n",
              "      --hover-fill-color: #174EA6;\n",
              "      --disabled-fill-color: #AAA;\n",
              "      --disabled-bg-color: #DDD;\n",
              "  }\n",
              "\n",
              "  [theme=dark] .colab-df-quickchart {\n",
              "      --bg-color: #3B4455;\n",
              "      --fill-color: #D2E3FC;\n",
              "      --hover-bg-color: #434B5C;\n",
              "      --hover-fill-color: #FFFFFF;\n",
              "      --disabled-bg-color: #3B4455;\n",
              "      --disabled-fill-color: #666;\n",
              "  }\n",
              "\n",
              "  .colab-df-quickchart {\n",
              "    background-color: var(--bg-color);\n",
              "    border: none;\n",
              "    border-radius: 50%;\n",
              "    cursor: pointer;\n",
              "    display: none;\n",
              "    fill: var(--fill-color);\n",
              "    height: 32px;\n",
              "    padding: 0;\n",
              "    width: 32px;\n",
              "  }\n",
              "\n",
              "  .colab-df-quickchart:hover {\n",
              "    background-color: var(--hover-bg-color);\n",
              "    box-shadow: 0 1px 2px rgba(60, 64, 67, 0.3), 0 1px 3px 1px rgba(60, 64, 67, 0.15);\n",
              "    fill: var(--button-hover-fill-color);\n",
              "  }\n",
              "\n",
              "  .colab-df-quickchart-complete:disabled,\n",
              "  .colab-df-quickchart-complete:disabled:hover {\n",
              "    background-color: var(--disabled-bg-color);\n",
              "    fill: var(--disabled-fill-color);\n",
              "    box-shadow: none;\n",
              "  }\n",
              "\n",
              "  .colab-df-spinner {\n",
              "    border: 2px solid var(--fill-color);\n",
              "    border-color: transparent;\n",
              "    border-bottom-color: var(--fill-color);\n",
              "    animation:\n",
              "      spin 1s steps(1) infinite;\n",
              "  }\n",
              "\n",
              "  @keyframes spin {\n",
              "    0% {\n",
              "      border-color: transparent;\n",
              "      border-bottom-color: var(--fill-color);\n",
              "      border-left-color: var(--fill-color);\n",
              "    }\n",
              "    20% {\n",
              "      border-color: transparent;\n",
              "      border-left-color: var(--fill-color);\n",
              "      border-top-color: var(--fill-color);\n",
              "    }\n",
              "    30% {\n",
              "      border-color: transparent;\n",
              "      border-left-color: var(--fill-color);\n",
              "      border-top-color: var(--fill-color);\n",
              "      border-right-color: var(--fill-color);\n",
              "    }\n",
              "    40% {\n",
              "      border-color: transparent;\n",
              "      border-right-color: var(--fill-color);\n",
              "      border-top-color: var(--fill-color);\n",
              "    }\n",
              "    60% {\n",
              "      border-color: transparent;\n",
              "      border-right-color: var(--fill-color);\n",
              "    }\n",
              "    80% {\n",
              "      border-color: transparent;\n",
              "      border-right-color: var(--fill-color);\n",
              "      border-bottom-color: var(--fill-color);\n",
              "    }\n",
              "    90% {\n",
              "      border-color: transparent;\n",
              "      border-bottom-color: var(--fill-color);\n",
              "    }\n",
              "  }\n",
              "</style>\n",
              "\n",
              "  <script>\n",
              "    async function quickchart(key) {\n",
              "      const quickchartButtonEl =\n",
              "        document.querySelector('#' + key + ' button');\n",
              "      quickchartButtonEl.disabled = true;  // To prevent multiple clicks.\n",
              "      quickchartButtonEl.classList.add('colab-df-spinner');\n",
              "      try {\n",
              "        const charts = await google.colab.kernel.invokeFunction(\n",
              "            'suggestCharts', [key], {});\n",
              "      } catch (error) {\n",
              "        console.error('Error during call to suggestCharts:', error);\n",
              "      }\n",
              "      quickchartButtonEl.classList.remove('colab-df-spinner');\n",
              "      quickchartButtonEl.classList.add('colab-df-quickchart-complete');\n",
              "    }\n",
              "    (() => {\n",
              "      let quickchartButtonEl =\n",
              "        document.querySelector('#df-4560261a-e586-40ae-b549-969ab851f6ca button');\n",
              "      quickchartButtonEl.style.display =\n",
              "        google.colab.kernel.accessAllowed ? 'block' : 'none';\n",
              "    })();\n",
              "  </script>\n",
              "</div>\n",
              "    </div>\n",
              "  </div>\n"
            ],
            "application/vnd.google.colaboratory.intrinsic+json": {
              "type": "dataframe",
              "variable_name": "data_set"
            }
          },
          "metadata": {},
          "execution_count": 6
        }
      ],
      "source": [
        "#Dataset head\n",
        "data_set.head()"
      ]
    },
    {
      "cell_type": "code",
      "execution_count": 7,
      "metadata": {
        "execution": {
          "iopub.execute_input": "2020-09-02T12:41:19.243051Z",
          "iopub.status.busy": "2020-09-02T12:41:19.242206Z",
          "iopub.status.idle": "2020-09-02T12:41:19.250101Z",
          "shell.execute_reply": "2020-09-02T12:41:19.249629Z"
        },
        "id": "gs9HZoftSiQi",
        "outputId": "4ec8e607-6423-40f6-b514-ac6fc9e4ec10",
        "papermill": {
          "duration": 0.022128,
          "end_time": "2020-09-02T12:41:19.250195",
          "exception": false,
          "start_time": "2020-09-02T12:41:19.228067",
          "status": "completed"
        },
        "tags": [],
        "colab": {
          "base_uri": "https://localhost:8080/"
        }
      },
      "outputs": [
        {
          "output_type": "execute_result",
          "data": {
            "text/plain": [
              "Unnamed: 0                                     0\n",
              "Time Serie                                     0\n",
              "AUSTRALIA - AUSTRALIAN DOLLAR/US$            198\n",
              "EURO AREA - EURO/US$                         198\n",
              "NEW ZEALAND - NEW ZELAND DOLLAR/US$          198\n",
              "UNITED KINGDOM - UNITED KINGDOM POUND/US$    198\n",
              "BRAZIL - REAL/US$                            198\n",
              "CANADA - CANADIAN DOLLAR/US$                 198\n",
              "CHINA - YUAN/US$                             197\n",
              "HONG KONG - HONG KONG DOLLAR/US$             198\n",
              "INDIA - INDIAN RUPEE/US$                     199\n",
              "KOREA - WON/US$                              198\n",
              "MEXICO - MEXICAN PESO/US$                    198\n",
              "SOUTH AFRICA - RAND/US$                      198\n",
              "SINGAPORE - SINGAPORE DOLLAR/US$             198\n",
              "DENMARK - DANISH KRONE/US$                   198\n",
              "JAPAN - YEN/US$                              198\n",
              "MALAYSIA - RINGGIT/US$                       198\n",
              "NORWAY - NORWEGIAN KRONE/US$                 198\n",
              "SWEDEN - KRONA/US$                           198\n",
              "SRI LANKA - SRI LANKAN RUPEE/US$             198\n",
              "SWITZERLAND - FRANC/US$                      198\n",
              "TAIWAN - NEW TAIWAN DOLLAR/US$               201\n",
              "THAILAND - BAHT/US$                          198\n",
              "dtype: int64"
            ]
          },
          "metadata": {},
          "execution_count": 7
        }
      ],
      "source": [
        "#Checking null values\n",
        "data_set.isnull().sum()"
      ]
    },
    {
      "cell_type": "code",
      "execution_count": 8,
      "metadata": {
        "execution": {
          "iopub.execute_input": "2020-09-02T12:41:19.278704Z",
          "iopub.status.busy": "2020-09-02T12:41:19.277860Z",
          "iopub.status.idle": "2020-09-02T12:41:19.293014Z",
          "shell.execute_reply": "2020-09-02T12:41:19.292544Z"
        },
        "id": "38VFuMQ2Sjno",
        "outputId": "f52c8e7f-0691-4cc8-b405-b0a08248c3ea",
        "papermill": {
          "duration": 0.030597,
          "end_time": "2020-09-02T12:41:19.293106",
          "exception": false,
          "start_time": "2020-09-02T12:41:19.262509",
          "status": "completed"
        },
        "tags": [],
        "colab": {
          "base_uri": "https://localhost:8080/"
        }
      },
      "outputs": [
        {
          "output_type": "execute_result",
          "data": {
            "text/plain": [
              "Unnamed: 0                                   0\n",
              "Time Serie                                   0\n",
              "AUSTRALIA - AUSTRALIAN DOLLAR/US$            0\n",
              "EURO AREA - EURO/US$                         0\n",
              "NEW ZEALAND - NEW ZELAND DOLLAR/US$          0\n",
              "UNITED KINGDOM - UNITED KINGDOM POUND/US$    0\n",
              "BRAZIL - REAL/US$                            0\n",
              "CANADA - CANADIAN DOLLAR/US$                 0\n",
              "CHINA - YUAN/US$                             0\n",
              "HONG KONG - HONG KONG DOLLAR/US$             0\n",
              "INDIA - INDIAN RUPEE/US$                     0\n",
              "KOREA - WON/US$                              0\n",
              "MEXICO - MEXICAN PESO/US$                    0\n",
              "SOUTH AFRICA - RAND/US$                      0\n",
              "SINGAPORE - SINGAPORE DOLLAR/US$             0\n",
              "DENMARK - DANISH KRONE/US$                   0\n",
              "JAPAN - YEN/US$                              0\n",
              "MALAYSIA - RINGGIT/US$                       0\n",
              "NORWAY - NORWEGIAN KRONE/US$                 0\n",
              "SWEDEN - KRONA/US$                           0\n",
              "SRI LANKA - SRI LANKAN RUPEE/US$             0\n",
              "SWITZERLAND - FRANC/US$                      0\n",
              "TAIWAN - NEW TAIWAN DOLLAR/US$               0\n",
              "THAILAND - BAHT/US$                          0\n",
              "dtype: int64"
            ]
          },
          "metadata": {},
          "execution_count": 8
        }
      ],
      "source": [
        "data_set.interpolate(inplace=True)\n",
        "data_set.isnull().sum()"
      ]
    },
    {
      "cell_type": "code",
      "execution_count": 9,
      "metadata": {
        "execution": {
          "iopub.execute_input": "2020-09-02T12:41:19.319019Z",
          "iopub.status.busy": "2020-09-02T12:41:19.318330Z",
          "iopub.status.idle": "2020-09-02T12:41:19.510694Z",
          "shell.execute_reply": "2020-09-02T12:41:19.510135Z"
        },
        "id": "zxBUWPCgPzeM",
        "outputId": "19ca36db-5e4a-45fb-f439-26be0e412b59",
        "papermill": {
          "duration": 0.206659,
          "end_time": "2020-09-02T12:41:19.510799",
          "exception": false,
          "start_time": "2020-09-02T12:41:19.304140",
          "status": "completed"
        },
        "tags": [],
        "colab": {
          "base_uri": "https://localhost:8080/",
          "height": 448
        }
      },
      "outputs": [
        {
          "output_type": "execute_result",
          "data": {
            "text/plain": [
              "[<matplotlib.lines.Line2D at 0x7d271cbcd4b0>]"
            ]
          },
          "metadata": {},
          "execution_count": 9
        },
        {
          "output_type": "display_data",
          "data": {
            "text/plain": [
              "<Figure size 640x480 with 1 Axes>"
            ],
            "image/png": "[encoded data removed]"
          },
          "metadata": {}
        }
      ],
      "source": [
        "#Plotting China Exchange rate\n",
        "plt.plot(data_set['CHINA - YUAN/US$'])"
      ]
    },
    {
      "cell_type": "code",
      "execution_count": 10,
      "metadata": {
        "execution": {
          "iopub.execute_input": "2020-09-02T12:41:19.541770Z",
          "iopub.status.busy": "2020-09-02T12:41:19.540304Z",
          "iopub.status.idle": "2020-09-02T12:41:19.543442Z",
          "shell.execute_reply": "2020-09-02T12:41:19.542957Z"
        },
        "id": "KchDR_yYP6EL",
        "papermill": {
          "duration": 0.019694,
          "end_time": "2020-09-02T12:41:19.543535",
          "exception": false,
          "start_time": "2020-09-02T12:41:19.523841",
          "status": "completed"
        },
        "tags": []
      },
      "outputs": [],
      "source": [
        "#Data frame\n",
        "df = data_set['CHINA - YUAN/US$']"
      ]
    },
    {
      "cell_type": "code",
      "execution_count": 11,
      "metadata": {
        "execution": {
          "iopub.execute_input": "2020-09-02T12:41:19.573784Z",
          "iopub.status.busy": "2020-09-02T12:41:19.572924Z",
          "iopub.status.idle": "2020-09-02T12:41:19.577171Z",
          "shell.execute_reply": "2020-09-02T12:41:19.577978Z"
        },
        "id": "ny8NjFITQCHz",
        "outputId": "9a59754c-911e-418e-b27d-8c9c7b73d1bb",
        "papermill": {
          "duration": 0.022961,
          "end_time": "2020-09-02T12:41:19.578118",
          "exception": false,
          "start_time": "2020-09-02T12:41:19.555157",
          "status": "completed"
        },
        "tags": [],
        "colab": {
          "base_uri": "https://localhost:8080/"
        }
      },
      "outputs": [
        {
          "output_type": "stream",
          "name": "stdout",
          "text": [
            "0       8.27980\n",
            "1       8.27990\n",
            "2       8.27980\n",
            "3       8.27970\n",
            "4       8.27940\n",
            "         ...   \n",
            "5212    7.00065\n",
            "5213    6.99490\n",
            "5214    6.99540\n",
            "5215    6.98640\n",
            "5216    6.96180\n",
            "Name: CHINA - YUAN/US$, Length: 5217, dtype: float64\n"
          ]
        }
      ],
      "source": [
        "print(df)"
      ]
    },
    {
      "cell_type": "code",
      "execution_count": 12,
      "metadata": {
        "execution": {
          "iopub.execute_input": "2020-09-02T12:41:19.607341Z",
          "iopub.status.busy": "2020-09-02T12:41:19.606606Z",
          "iopub.status.idle": "2020-09-02T12:41:19.609672Z",
          "shell.execute_reply": "2020-09-02T12:41:19.609195Z"
        },
        "id": "R2BO97fBQM6C",
        "papermill": {
          "duration": 0.019033,
          "end_time": "2020-09-02T12:41:19.609775",
          "exception": false,
          "start_time": "2020-09-02T12:41:19.590742",
          "status": "completed"
        },
        "tags": []
      },
      "outputs": [],
      "source": [
        "#Preprocessing data set\n",
        "df = np.array(df).reshape(-1,1)"
      ]
    },
    {
      "cell_type": "code",
      "execution_count": 13,
      "metadata": {
        "execution": {
          "iopub.execute_input": "2020-09-02T12:41:19.637880Z",
          "iopub.status.busy": "2020-09-02T12:41:19.637039Z",
          "iopub.status.idle": "2020-09-02T12:41:19.640973Z",
          "shell.execute_reply": "2020-09-02T12:41:19.640489Z"
        },
        "id": "RfVzi2rhS_J7",
        "outputId": "a9047dfb-4ed2-46da-d943-39209d272d0f",
        "papermill": {
          "duration": 0.019691,
          "end_time": "2020-09-02T12:41:19.641058",
          "exception": false,
          "start_time": "2020-09-02T12:41:19.621367",
          "status": "completed"
        },
        "tags": [],
        "colab": {
          "base_uri": "https://localhost:8080/"
        }
      },
      "outputs": [
        {
          "output_type": "execute_result",
          "data": {
            "text/plain": [
              "array([[8.2798],\n",
              "       [8.2799],\n",
              "       [8.2798],\n",
              "       ...,\n",
              "       [6.9954],\n",
              "       [6.9864],\n",
              "       [6.9618]])"
            ]
          },
          "metadata": {},
          "execution_count": 13
        }
      ],
      "source": [
        "df"
      ]
    },
    {
      "cell_type": "code",
      "execution_count": 14,
      "metadata": {
        "execution": {
          "iopub.execute_input": "2020-09-02T12:41:19.669344Z",
          "iopub.status.busy": "2020-09-02T12:41:19.668598Z",
          "iopub.status.idle": "2020-09-02T12:41:20.409213Z",
          "shell.execute_reply": "2020-09-02T12:41:20.409771Z"
        },
        "id": "6jhJwcG1QQMD",
        "papermill": {
          "duration": 0.757135,
          "end_time": "2020-09-02T12:41:20.409930",
          "exception": false,
          "start_time": "2020-09-02T12:41:19.652795",
          "status": "completed"
        },
        "tags": []
      },
      "outputs": [],
      "source": [
        "from sklearn.preprocessing import MinMaxScaler\n",
        "scaler = MinMaxScaler()"
      ]
    },
    {
      "cell_type": "code",
      "execution_count": 15,
      "metadata": {
        "execution": {
          "iopub.execute_input": "2020-09-02T12:41:20.452517Z",
          "iopub.status.busy": "2020-09-02T12:41:20.450647Z",
          "iopub.status.idle": "2020-09-02T12:41:20.453561Z",
          "shell.execute_reply": "2020-09-02T12:41:20.454335Z"
        },
        "id": "W31WJ9-SQfki",
        "papermill": {
          "duration": 0.027907,
          "end_time": "2020-09-02T12:41:20.454513",
          "exception": false,
          "start_time": "2020-09-02T12:41:20.426606",
          "status": "completed"
        },
        "tags": []
      },
      "outputs": [],
      "source": [
        "df = scaler.fit_transform(df)"
      ]
    },
    {
      "cell_type": "code",
      "execution_count": 16,
      "metadata": {
        "execution": {
          "iopub.execute_input": "2020-09-02T12:41:20.495400Z",
          "iopub.status.busy": "2020-09-02T12:41:20.494558Z",
          "iopub.status.idle": "2020-09-02T12:41:20.498602Z",
          "shell.execute_reply": "2020-09-02T12:41:20.499313Z"
        },
        "id": "CBKGP4mRQS-L",
        "outputId": "b4473a68-de7a-46b6-b9cd-e7f77f3b2e1d",
        "papermill": {
          "duration": 0.028058,
          "end_time": "2020-09-02T12:41:20.499480",
          "exception": false,
          "start_time": "2020-09-02T12:41:20.471422",
          "status": "completed"
        },
        "tags": [],
        "colab": {
          "base_uri": "https://localhost:8080/"
        }
      },
      "outputs": [
        {
          "output_type": "execute_result",
          "data": {
            "text/plain": [
              "array([[0.99991071],\n",
              "       [0.99995535],\n",
              "       [0.99991071],\n",
              "       ...,\n",
              "       [0.42646665],\n",
              "       [0.42244843],\n",
              "       [0.41146531]])"
            ]
          },
          "metadata": {},
          "execution_count": 16
        }
      ],
      "source": [
        "df"
      ]
    },
    {
      "cell_type": "code",
      "source": [
        "# from scipy.stats import zscore\n",
        "# fft_values = fft(zscore(data_set['EURO AREA - EURO/US$']))\n",
        "# n = len(data_set['EURO AREA - EURO/US$'])\n",
        "# # timestep = 1  # This represents the time difference between each data point. You'll need to adjust this based on your actual time intervals.\n",
        "# freq = np.fft.fftfreq(n)#, d=timestep)\n",
        "\n",
        "# # Plot the magnitudes of the FFT\n",
        "# plt.figure(figsize=(14, 7))\n",
        "# plt.plot(freq, np.abs(fft_values))\n",
        "# plt.title('Fourier Transform of EURO/USD Exchange Rate')\n",
        "# plt.xlabel('Frequency')\n",
        "# plt.ylabel('Magnitude')\n",
        "# plt.grid(True)\n",
        "# plt.show()\n"
      ],
      "metadata": {
        "id": "8_py_4SeCMBt"
      },
      "execution_count": 17,
      "outputs": []
    },
    {
      "cell_type": "code",
      "source": [
        "# import numpy as np\n",
        "# from numpy.fft import fft\n",
        "\n",
        "# def apply_fourier_transform(data):\n",
        "\n",
        "#     # Applying Fourier Transform to each series in the dataset\n",
        "#     transformed_data = fft(data)\n",
        "#     return np.abs(transformed_data)  # Return the magnitude of the frequency components\n",
        "# #\n",
        "# # fourier_transformed_data = {}\n",
        "# # for column in df.columns[1:]:  # Skip 'Time Serie' which is the date\n",
        "# #     fourier_transformed_data[column] = apply_fourier_transform(df[column].values)\n"
      ],
      "metadata": {
        "id": "wa66sSVdBhLx"
      },
      "execution_count": 18,
      "outputs": []
    },
    {
      "cell_type": "code",
      "source": [
        "# import matplotlib.pyplot as plt\n",
        "\n",
        "# # Example to plot the Fourier Transform result for one currency\n",
        "# fourier_transformed_data = apply_fourier_transform(df)\n",
        "# plt.figure(figsize=(14, 7))\n",
        "# plt.plot(fourier_transformed_data)\n",
        "# plt.title('Frequency Components of CNY/USD Exchange Rate')\n",
        "# plt.xlabel('Frequency Index')\n",
        "# plt.ylabel('Magnitude')\n",
        "# plt.legend()\n",
        "# plt.show()\n"
      ],
      "metadata": {
        "id": "FaWPZEDTCuf7"
      },
      "execution_count": 19,
      "outputs": []
    },
    {
      "cell_type": "code",
      "execution_count": 20,
      "metadata": {
        "execution": {
          "iopub.execute_input": "2020-09-02T12:41:20.553626Z",
          "iopub.status.busy": "2020-09-02T12:41:20.551614Z",
          "iopub.status.idle": "2020-09-02T12:41:20.556801Z",
          "shell.execute_reply": "2020-09-02T12:41:20.552547Z"
        },
        "id": "d5ygb4hhQYFz",
        "outputId": "2e6870d7-0088-4616-a79a-665d3c4b9e32",
        "papermill": {
          "duration": 0.039198,
          "end_time": "2020-09-02T12:41:20.557071",
          "exception": false,
          "start_time": "2020-09-02T12:41:20.517873",
          "status": "completed"
        },
        "tags": [],
        "colab": {
          "base_uri": "https://localhost:8080/"
        }
      },
      "outputs": [
        {
          "output_type": "stream",
          "name": "stdout",
          "text": [
            "(4800, 1)\n",
            "(417, 1)\n"
          ]
        }
      ],
      "source": [
        "#Training and test sets\n",
        "train = df[:4800]\n",
        "test = df[4800:]\n",
        "\n",
        "print(train.shape)\n",
        "print(test.shape)"
      ]
    },
    {
      "cell_type": "code",
      "execution_count": 21,
      "metadata": {
        "execution": {
          "iopub.execute_input": "2020-09-02T12:41:20.609045Z",
          "iopub.status.busy": "2020-09-02T12:41:20.608179Z",
          "iopub.status.idle": "2020-09-02T12:41:20.612882Z",
          "shell.execute_reply": "2020-09-02T12:41:20.613598Z"
        },
        "id": "bfxk8KwfQnYi",
        "papermill": {
          "duration": 0.033506,
          "end_time": "2020-09-02T12:41:20.613797",
          "exception": false,
          "start_time": "2020-09-02T12:41:20.580291",
          "status": "completed"
        },
        "tags": []
      },
      "outputs": [],
      "source": [
        "def get_data(data, look_back):\n",
        "  datax, datay = [],[]\n",
        "  for i in range(len(data)-look_back-1):\n",
        "    datax.append(data[i:(i+look_back),0])\n",
        "    datay.append(data[i+look_back,0])\n",
        "  return np.array(datax) , np.array(datay)"
      ]
    },
    {
      "cell_type": "code",
      "execution_count": 22,
      "metadata": {
        "execution": {
          "iopub.execute_input": "2020-09-02T12:41:20.661793Z",
          "iopub.status.busy": "2020-09-02T12:41:20.660912Z",
          "iopub.status.idle": "2020-09-02T12:41:20.676808Z",
          "shell.execute_reply": "2020-09-02T12:41:20.677905Z"
        },
        "id": "UtWsYOBeQqq6",
        "outputId": "bf558cc8-0e93-444d-d1be-f175a11f6f53",
        "papermill": {
          "duration": 0.046412,
          "end_time": "2020-09-02T12:41:20.678066",
          "exception": false,
          "start_time": "2020-09-02T12:41:20.631654",
          "status": "completed"
        },
        "tags": [],
        "colab": {
          "base_uri": "https://localhost:8080/"
        }
      },
      "outputs": [
        {
          "output_type": "stream",
          "name": "stdout",
          "text": [
            "(4798, 1)\n",
            "(4798,)\n"
          ]
        }
      ],
      "source": [
        "look_back = 1\n",
        "\n",
        "x_train , y_train = get_data(train, look_back)\n",
        "print(x_train.shape)\n",
        "print(y_train.shape)"
      ]
    },
    {
      "cell_type": "code",
      "execution_count": 23,
      "metadata": {
        "execution": {
          "iopub.execute_input": "2020-09-02T12:41:20.723161Z",
          "iopub.status.busy": "2020-09-02T12:41:20.722382Z",
          "iopub.status.idle": "2020-09-02T12:41:20.729121Z",
          "shell.execute_reply": "2020-09-02T12:41:20.729892Z"
        },
        "id": "QmQ4aTwAQuQz",
        "outputId": "3f4f8ec1-78c2-4e95-a1af-5ff26aeb4d57",
        "papermill": {
          "duration": 0.03329,
          "end_time": "2020-09-02T12:41:20.730037",
          "exception": false,
          "start_time": "2020-09-02T12:41:20.696747",
          "status": "completed"
        },
        "tags": [],
        "colab": {
          "base_uri": "https://localhost:8080/"
        }
      },
      "outputs": [
        {
          "output_type": "stream",
          "name": "stdout",
          "text": [
            "(415, 1)\n",
            "(415,)\n"
          ]
        }
      ],
      "source": [
        "x_test , y_test = get_data(test,look_back)\n",
        "print(x_test.shape)\n",
        "print(y_test.shape)"
      ]
    },
    {
      "cell_type": "code",
      "execution_count": 24,
      "metadata": {
        "execution": {
          "iopub.execute_input": "2020-09-02T12:41:20.775916Z",
          "iopub.status.busy": "2020-09-02T12:41:20.775026Z",
          "iopub.status.idle": "2020-09-02T12:41:20.777465Z",
          "shell.execute_reply": "2020-09-02T12:41:20.776678Z"
        },
        "id": "OzM72hLXQ8oS",
        "papermill": {
          "duration": 0.029037,
          "end_time": "2020-09-02T12:41:20.777601",
          "exception": false,
          "start_time": "2020-09-02T12:41:20.748564",
          "status": "completed"
        },
        "tags": []
      },
      "outputs": [],
      "source": [
        "#Processing train and test sets for LSTM model\n",
        "x_train = x_train.reshape(x_train.shape[0],x_train.shape[1], 1)\n",
        "x_test = x_test.reshape(x_test.shape[0],x_test.shape[1], 1)"
      ]
    },
    {
      "cell_type": "code",
      "execution_count": 25,
      "metadata": {
        "execution": {
          "iopub.execute_input": "2020-09-02T12:41:20.824611Z",
          "iopub.status.busy": "2020-09-02T12:41:20.823745Z",
          "iopub.status.idle": "2020-09-02T12:41:20.827942Z",
          "shell.execute_reply": "2020-09-02T12:41:20.825315Z"
        },
        "id": "G-B3ojD_Q_9r",
        "outputId": "8e1ab921-2707-4f91-c6b8-229449e374a4",
        "papermill": {
          "duration": 0.031525,
          "end_time": "2020-09-02T12:41:20.828193",
          "exception": false,
          "start_time": "2020-09-02T12:41:20.796668",
          "status": "completed"
        },
        "tags": [],
        "colab": {
          "base_uri": "https://localhost:8080/"
        }
      },
      "outputs": [
        {
          "output_type": "stream",
          "name": "stdout",
          "text": [
            "(4798, 1, 1)\n",
            "(415, 1, 1)\n"
          ]
        }
      ],
      "source": [
        "print(x_train.shape)\n",
        "print(x_test.shape)\n"
      ]
    },
    {
      "cell_type": "code",
      "execution_count": 26,
      "metadata": {
        "execution": {
          "iopub.execute_input": "2020-09-02T12:41:20.889651Z",
          "iopub.status.busy": "2020-09-02T12:41:20.888630Z",
          "iopub.status.idle": "2020-09-02T12:41:20.891323Z",
          "shell.execute_reply": "2020-09-02T12:41:20.890543Z"
        },
        "id": "CwlLkaaWUnG3",
        "papermill": {
          "duration": 0.032381,
          "end_time": "2020-09-02T12:41:20.891494",
          "exception": false,
          "start_time": "2020-09-02T12:41:20.859113",
          "status": "completed"
        },
        "tags": []
      },
      "outputs": [],
      "source": [
        "#Defining the LSTM model\n",
        "from keras.models import Sequential\n",
        "from keras.layers import Dense,LSTM\n"
      ]
    },
    {
      "cell_type": "code",
      "execution_count": 27,
      "metadata": {
        "execution": {
          "iopub.execute_input": "2020-09-02T12:41:20.940960Z",
          "iopub.status.busy": "2020-09-02T12:41:20.936744Z",
          "iopub.status.idle": "2020-09-02T12:41:23.664164Z",
          "shell.execute_reply": "2020-09-02T12:41:23.663183Z"
        },
        "id": "ADqH_jV4RE1C",
        "papermill": {
          "duration": 2.752605,
          "end_time": "2020-09-02T12:41:23.664292",
          "exception": false,
          "start_time": "2020-09-02T12:41:20.911687",
          "status": "completed"
        },
        "tags": []
      },
      "outputs": [],
      "source": [
        "n_features=x_train.shape[1]\n",
        "model=Sequential()\n",
        "model.add(LSTM(100,activation='relu',input_shape=(1,1)))\n",
        "model.add(Dense(n_features))"
      ]
    },
    {
      "cell_type": "code",
      "execution_count": 28,
      "metadata": {
        "execution": {
          "iopub.execute_input": "2020-09-02T12:41:23.700246Z",
          "iopub.status.busy": "2020-09-02T12:41:23.699488Z",
          "iopub.status.idle": "2020-09-02T12:41:23.702705Z",
          "shell.execute_reply": "2020-09-02T12:41:23.700830Z"
        },
        "id": "lbd3pItfnhRU",
        "outputId": "baec2804-5e5f-497f-d984-54354df8e2bc",
        "papermill": {
          "duration": 0.025014,
          "end_time": "2020-09-02T12:41:23.702809",
          "exception": false,
          "start_time": "2020-09-02T12:41:23.677795",
          "status": "completed"
        },
        "tags": [],
        "colab": {
          "base_uri": "https://localhost:8080/"
        }
      },
      "outputs": [
        {
          "output_type": "stream",
          "name": "stdout",
          "text": [
            "Model: \"sequential\"\n",
            "_________________________________________________________________\n",
            " Layer (type)                Output Shape              Param #   \n",
            "=================================================================\n",
            " lstm (LSTM)                 (None, 100)               40800     \n",
            "                                                                 \n",
            " dense (Dense)               (None, 1)                 101       \n",
            "                                                                 \n",
            "=================================================================\n",
            "Total params: 40901 (159.77 KB)\n",
            "Trainable params: 40901 (159.77 KB)\n",
            "Non-trainable params: 0 (0.00 Byte)\n",
            "_________________________________________________________________\n"
          ]
        }
      ],
      "source": [
        "model.summary()"
      ]
    },
    {
      "cell_type": "code",
      "execution_count": 29,
      "metadata": {
        "execution": {
          "iopub.execute_input": "2020-09-02T12:41:23.738922Z",
          "iopub.status.busy": "2020-09-02T12:41:23.736983Z",
          "iopub.status.idle": "2020-09-02T12:41:23.745030Z",
          "shell.execute_reply": "2020-09-02T12:41:23.745611Z"
        },
        "id": "UtqjJA0wRHPq",
        "papermill": {
          "duration": 0.030126,
          "end_time": "2020-09-02T12:41:23.745779",
          "exception": false,
          "start_time": "2020-09-02T12:41:23.715653",
          "status": "completed"
        },
        "tags": []
      },
      "outputs": [],
      "source": [
        "#Compiling\n",
        "model.compile(optimizer='adam', loss = 'mse')"
      ]
    },
    {
      "cell_type": "code",
      "execution_count": 30,
      "metadata": {
        "execution": {
          "iopub.execute_input": "2020-09-02T12:41:23.775720Z",
          "iopub.status.busy": "2020-09-02T12:41:23.775115Z",
          "iopub.status.idle": "2020-09-02T12:42:16.970655Z",
          "shell.execute_reply": "2020-09-02T12:42:16.970038Z"
        },
        "id": "rQmkEljuRJ5K",
        "outputId": "399f8338-415e-402f-da9d-3dc65f17e7ca",
        "papermill": {
          "duration": 53.212055,
          "end_time": "2020-09-02T12:42:16.970771",
          "exception": false,
          "start_time": "2020-09-02T12:41:23.758716",
          "status": "completed"
        },
        "tags": [],
        "colab": {
          "base_uri": "https://localhost:8080/"
        }
      },
      "outputs": [
        {
          "output_type": "stream",
          "name": "stdout",
          "text": [
            "Epoch 1/5\n",
            "4798/4798 [==============================] - 17s 3ms/step - loss: 0.0083\n",
            "Epoch 2/5\n",
            "4798/4798 [==============================] - 17s 4ms/step - loss: 3.5605e-05\n",
            "Epoch 3/5\n",
            "4798/4798 [==============================] - 15s 3ms/step - loss: 3.0596e-05\n",
            "Epoch 4/5\n",
            "4798/4798 [==============================] - 14s 3ms/step - loss: 2.8448e-05\n",
            "Epoch 5/5\n",
            "4798/4798 [==============================] - 15s 3ms/step - loss: 2.6192e-05\n"
          ]
        },
        {
          "output_type": "execute_result",
          "data": {
            "text/plain": [
              "<keras.src.callbacks.History at 0x7d27163961a0>"
            ]
          },
          "metadata": {},
          "execution_count": 30
        }
      ],
      "source": [
        "#Training\n",
        "model.fit(x_train,y_train, epochs = 5, batch_size=1)"
      ]
    },
    {
      "cell_type": "code",
      "execution_count": 31,
      "metadata": {
        "execution": {
          "iopub.execute_input": "2020-09-02T12:42:17.117132Z",
          "iopub.status.busy": "2020-09-02T12:42:17.116335Z",
          "iopub.status.idle": "2020-09-02T12:42:17.120038Z",
          "shell.execute_reply": "2020-09-02T12:42:17.120522Z"
        },
        "id": "W0NpJaSLRNuR",
        "outputId": "c8e81e21-5112-48d6-ea98-6be7716be2cc",
        "papermill": {
          "duration": 0.079125,
          "end_time": "2020-09-02T12:42:17.120650",
          "exception": false,
          "start_time": "2020-09-02T12:42:17.041525",
          "status": "completed"
        },
        "tags": [],
        "colab": {
          "base_uri": "https://localhost:8080/"
        }
      },
      "outputs": [
        {
          "output_type": "execute_result",
          "data": {
            "text/plain": [
              "array([0.44646843])"
            ]
          },
          "metadata": {},
          "execution_count": 31
        }
      ],
      "source": [
        "#Prediction using the trained model\n",
        "scaler.scale_"
      ]
    },
    {
      "cell_type": "code",
      "execution_count": 32,
      "metadata": {
        "execution": {
          "iopub.execute_input": "2020-09-02T12:42:17.264550Z",
          "iopub.status.busy": "2020-09-02T12:42:17.263695Z",
          "iopub.status.idle": "2020-09-02T12:42:17.480587Z",
          "shell.execute_reply": "2020-09-02T12:42:17.481330Z"
        },
        "id": "onJFn6KyRQfa",
        "outputId": "f7af3071-c918-456d-a969-39c10e8a8e31",
        "papermill": {
          "duration": 0.291396,
          "end_time": "2020-09-02T12:42:17.481550",
          "exception": false,
          "start_time": "2020-09-02T12:42:17.190154",
          "status": "completed"
        },
        "tags": [],
        "colab": {
          "base_uri": "https://localhost:8080/"
        }
      },
      "outputs": [
        {
          "output_type": "stream",
          "name": "stdout",
          "text": [
            "13/13 [==============================] - 0s 2ms/step\n",
            "[[6.409829 ]\n",
            " [6.422726 ]\n",
            " [6.424021 ]\n",
            " [6.4161534]\n",
            " [6.4245186]\n",
            " [6.411572 ]\n",
            " [6.410775 ]\n",
            " [6.391655 ]\n",
            " [6.3956385]\n",
            " [6.40968  ]]\n"
          ]
        }
      ],
      "source": [
        "y_pred = model.predict(x_test)\n",
        "y_pred = scaler.inverse_transform(y_pred)\n",
        "print(y_pred[:10])"
      ]
    },
    {
      "cell_type": "code",
      "execution_count": 33,
      "metadata": {
        "execution": {
          "iopub.execute_input": "2020-09-02T12:42:17.634885Z",
          "iopub.status.busy": "2020-09-02T12:42:17.633974Z",
          "iopub.status.idle": "2020-09-02T12:42:17.640668Z",
          "shell.execute_reply": "2020-09-02T12:42:17.640163Z"
        },
        "id": "eyfbYKohRUVB",
        "outputId": "e056206a-8462-4adc-e51a-412c451ebcda",
        "papermill": {
          "duration": 0.081659,
          "end_time": "2020-09-02T12:42:17.640777",
          "exception": false,
          "start_time": "2020-09-02T12:42:17.559118",
          "status": "completed"
        },
        "tags": [],
        "colab": {
          "base_uri": "https://localhost:8080/"
        }
      },
      "outputs": [
        {
          "output_type": "stream",
          "name": "stdout",
          "text": [
            "[[6.4162]\n",
            " [6.4175]\n",
            " [6.4096]\n",
            " [6.418 ]\n",
            " [6.405 ]\n",
            " [6.4042]\n",
            " [6.385 ]\n",
            " [6.389 ]\n",
            " [6.4031]\n",
            " [6.4   ]]\n"
          ]
        }
      ],
      "source": [
        "#Processing test shape\n",
        "y_test = np.array(y_test).reshape(-1,1)\n",
        "y_test = scaler.inverse_transform(y_test)\n",
        "print(y_test[:10])"
      ]
    },
    {
      "cell_type": "code",
      "execution_count": 34,
      "metadata": {
        "execution": {
          "iopub.execute_input": "2020-09-02T12:42:17.854150Z",
          "iopub.status.busy": "2020-09-02T12:42:17.853170Z",
          "iopub.status.idle": "2020-09-02T12:42:18.036742Z",
          "shell.execute_reply": "2020-09-02T12:42:18.035799Z"
        },
        "id": "Ly_SbnZ3RZxS",
        "outputId": "ab4d1686-0e91-461f-dfed-8b472ca26e19",
        "papermill": {
          "duration": 0.321387,
          "end_time": "2020-09-02T12:42:18.036867",
          "exception": false,
          "start_time": "2020-09-02T12:42:17.715480",
          "status": "completed"
        },
        "tags": [],
        "colab": {
          "base_uri": "https://localhost:8080/",
          "height": 486
        }
      },
      "outputs": [
        {
          "output_type": "execute_result",
          "data": {
            "text/plain": [
              "<matplotlib.legend.Legend at 0x7d271591b640>"
            ]
          },
          "metadata": {},
          "execution_count": 34
        },
        {
          "output_type": "display_data",
          "data": {
            "text/plain": [
              "<Figure size 1000x500 with 1 Axes>"
            ],
            "image/png": "[encoded data removed]"
          },
          "metadata": {}
        }
      ],
      "source": [
        "#Visualizing the results\n",
        "plt.figure(figsize=(10,5))\n",
        "plt.title('Foreign Exchange Rate of China')\n",
        "plt.plot(y_test , label = 'Actual', color = 'g')\n",
        "plt.plot(y_pred , label = 'Predicted', color = 'r')\n",
        "plt.legend()"
      ]
    },
    {
      "cell_type": "code",
      "execution_count": 35,
      "metadata": {
        "execution": {
          "iopub.execute_input": "2020-09-02T12:42:18.183407Z",
          "iopub.status.busy": "2020-09-02T12:42:18.182582Z",
          "iopub.status.idle": "2020-09-02T12:42:18.228475Z",
          "shell.execute_reply": "2020-09-02T12:42:18.229058Z"
        },
        "id": "mM6fn5-CokFc",
        "outputId": "94fc02bb-ed4e-42b0-c8eb-a5989811e2e4",
        "papermill": {
          "duration": 0.120161,
          "end_time": "2020-09-02T12:42:18.229208",
          "exception": false,
          "start_time": "2020-09-02T12:42:18.109047",
          "status": "completed"
        },
        "tags": [],
        "colab": {
          "base_uri": "https://localhost:8080/"
        }
      },
      "outputs": [
        {
          "output_type": "execute_result",
          "data": {
            "text/plain": [
              "0.0003424894198150071"
            ]
          },
          "metadata": {},
          "execution_count": 35
        }
      ],
      "source": [
        "from sklearn.metrics import mean_squared_error\n",
        "mean_squared_error(y_test, y_pred)"
      ]
    },
    {
      "cell_type": "code",
      "source": [],
      "metadata": {
        "id": "agkIotrhb-4P"
      },
      "execution_count": 35,
      "outputs": []
    }
  ],
  "metadata": {
    "kernelspec": {
      "display_name": "Python 3",
      "language": "python",
      "name": "python3"
    },
    "language_info": {
      "codemirror_mode": {
        "name": "ipython",
        "version": 3
      },
      "file_extension": ".py",
      "mimetype": "text/x-python",
      "name": "python",
      "nbconvert_exporter": "python",
      "pygments_lexer": "ipython3",
      "version": "3.7.6"
    },
    "papermill": {
      "duration": 69.860802,
      "end_time": "2020-09-02T12:42:19.556096",
      "environment_variables": {},
      "exception": null,
      "input_path": "__notebook__.ipynb",
      "output_path": "__notebook__.ipynb",
      "parameters": {},
      "start_time": "2020-09-02T12:41:09.695294",
      "version": "2.1.0"
    },
    "colab": {
      "provenance": []
    }
  },
  "nbformat": 4,
  "nbformat_minor": 0
}
